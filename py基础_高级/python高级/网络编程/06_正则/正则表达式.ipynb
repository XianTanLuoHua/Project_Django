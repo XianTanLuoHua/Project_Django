{
 "cells": [
  {
   "cell_type": "code",
   "execution_count": 1,
   "metadata": {
    "collapsed": true
   },
   "outputs": [
    {
     "name": "stdout",
     "output_type": "stream",
     "text": [
      "<_sre.SRE_Match object; span=(1, 4), match='123'>\n123\n1\n4\n**************************\n<_sre.SRE_Match object; span=(1, 2), match='1'>\n1\n"
     ]
    }
   ],
   "source": [
    "''\n",
    "'''\n",
    "        match可以输入起始和结束位置\n",
    "        match查找的结果只包含一个 表示第一次匹配的内容\n",
    "        match只匹配字符串的开始，如果字符串开始不符合正则表达式，则匹配失败，函数返回None\n",
    "        a = re.compile(r'\\d+')  #r表示不转义,\\d表示配数字   +表取尽可能多的任意英文字母与数字一次以上 \n",
    "\n",
    "        \n",
    "'''\n",
    "\n",
    "\n",
    "import re\n",
    "a = re.compile(r'\\d+')  #r表示不转义,\\d表示配数字   +取尽可能多的任意英文字母与数字一次以上 \n",
    "c = a.match('a123a54asdfa',1,10)  # 1表示开始位置  10表示结束位置  \n",
    "print(c)\n",
    "print(c[0])               # 表示下标为0的地方为找到的对象\n",
    "print(c.start(0))         #start 下标为0的地方找到的对象的开始的位置\n",
    "print(c.end(0))           #end    下标为0的地方找到的对象的结束位置\n",
    "\n",
    "print('**************************')\n",
    "\n",
    "a = re.compile(r'\\d')     #r表示不转义,\\d表示匹配数字\n",
    "c = a.match('a123a54asdfa',1,10)\n",
    "print(c)\n",
    "print(c[0])"
   ]
  },
  {
   "cell_type": "code",
   "execution_count": 110,
   "metadata": {},
   "outputs": [
    {
     "name": "stdout",
     "output_type": "stream",
     "text": [
      "I love\nI\n0\n1\n**************************\n('I', 'love')\n**************************\nlove\n2\n6\n"
     ]
    }
   ],
   "source": [
    "''\n",
    "'''\n",
    "        group(0)表示显示所有的已经匹配的组\n",
    "        group(1)表示显示第一组\n",
    "        group(2)表示显示第二组\n",
    "'''\n",
    "\n",
    "import re\n",
    "p = re.compile(r'([a-z]+) ([a-z]+)', re.I) #表示 匹配小写a-小写z 经过一个空格后 又匹配一组相同的   +表示匹配一串  re.I 表示不分大小写\n",
    "\n",
    "c = p.match('I love wangxiaojing')\n",
    "print(c.group(0))                          #0表示显示全部的组\n",
    "print(c.group((1)))                        #把第一组打印出来\n",
    "print(c.start(1))                          #第一组的开始位置\n",
    "print(c.end((1)))                          #第一组的结束位置\n",
    "\n",
    "print('**************************')\n",
    "\n",
    "print(c.groups())                          #打印group内匹配到的所有元素\n",
    "\n",
    "print('**************************')\n",
    "print(c.group(2))                          #打印group里面第二个元素\n",
    "print(c.start(2))                          #打印c的第二个元素的开始位置\n",
    "print(c.end(2))                            #打印c的第二个元素的结束位置"
   ]
  },
  {
   "cell_type": "code",
   "execution_count": 106,
   "metadata": {},
   "outputs": [
    {
     "name": "stdout",
     "output_type": "stream",
     "text": [
      "12\n**************************\n['12', '2', '34']\n**************************\n<re.Match object; span=(3, 5), match='12'>\n<re.Match object; span=(8, 9), match='2'>\n<re.Match object; span=(16, 18), match='34'>\n"
     ]
    }
   ],
   "source": [
    "''\n",
    "'''\n",
    "        查找search\n",
    "        search匹配整个字符串，直到找到第一个匹配上的。\n",
    "        findall 查找字符串内所有符合条件的返回一个结果\n",
    "        finditer 查找所有符合条件的 返回一个iter结果\n",
    "'''\n",
    "\n",
    "import re\n",
    "p = re.compile(r'\\d+')\n",
    "m = p.search('one12two2 there 34')\n",
    "print(m.group())\n",
    "\n",
    "print('**************************')\n",
    "\n",
    "fa = p.findall('one12two2 there 34')\n",
    "print(fa)\n",
    "\n",
    "print('**************************')\n",
    "\n",
    "fi = p.finditer('one12two2 there 34')\n",
    "for i in fi:\n",
    "    print(i)\n",
    "\n"
   ]
  },
  {
   "cell_type": "code",
   "execution_count": 100,
   "metadata": {},
   "outputs": [
    {
     "name": "stdout",
     "output_type": "stream",
     "text": [
      "None\n**************************\n<re.Match object; span=(3, 9), match='I love'>\n('I', 'love')\n"
     ]
    }
   ],
   "source": [
    "''\n",
    "'''\n",
    "        match 与 search 的区别\n",
    "        re.match只匹配字符串的开始，如果字符串开始不符合正则表达式，则匹配失败，函数返回None；\n",
    "        re.search匹配整个字符串，直到找到一个匹配。\n",
    "'''\n",
    "p = re.compile(r'([a-z]+) ([a-z]+)', re.I)\n",
    "c = p.match('000I love wangxiaojing')\n",
    "print(c) #因为是000开头所以match五大从开头开始匹配 所以报错\n",
    "\n",
    "print('**************************')\n",
    "d = p.search('000I love wangxiaojing')\n",
    "print(d)    #search 会查找整个字符串\n",
    "print(d.groups())\n",
    "\n",
    "\n",
    "\n"
   ]
  },
  {
   "cell_type": "code",
   "execution_count": 129,
   "metadata": {},
   "outputs": [
    {
     "name": "stdout",
     "output_type": "stream",
     "text": [
      "hello word hello word xiaojing,hello word you\n"
     ]
    }
   ],
   "source": [
    "''\n",
    "'''\n",
    "        sub 代替\n",
    "        new_obj = obj.sub('str',规则)\n",
    "'''\n",
    "import re\n",
    "p = re.compile(r'(\\w+) (\\w+)') #表示匹配至少一个数字或字符 接着一个空格之后 又至少匹配一个数字或字符\n",
    "s = 'hello 123 wang 567 xiaojing,i love you'\n",
    "rst = p.sub(r'hello word',s)    \n",
    "print(rst)\n",
    "\n"
   ]
  },
  {
   "cell_type": "code",
   "execution_count": 1,
   "metadata": {},
   "outputs": [
    {
     "name": "stdout",
     "output_type": "stream",
     "text": [
      "i\n"
     ]
    }
   ],
   "source": [
    "print('i')"
   ]
  },
  {
   "cell_type": "code",
   "execution_count": 1,
   "metadata": {},
   "outputs": [],
   "source": [
    ""
   ]
  },
  {
   "cell_type": "code",
   "execution_count": 111,
   "metadata": {},
   "outputs": [],
   "source": []
  },
  {
   "cell_type": "code",
   "execution_count": 111,
   "metadata": {},
   "outputs": [],
   "source": []
  },
  {
   "cell_type": "code",
   "execution_count": 111,
   "metadata": {},
   "outputs": [],
   "source": []
  },
  {
   "cell_type": "code",
   "execution_count": 111,
   "metadata": {},
   "outputs": [],
   "source": []
  },
  {
   "cell_type": "code",
   "execution_count": 111,
   "metadata": {},
   "outputs": [],
   "source": []
  },
  {
   "cell_type": "code",
   "execution_count": 111,
   "metadata": {},
   "outputs": [],
   "source": []
  },
  {
   "cell_type": "code",
   "execution_count": null,
   "metadata": {},
   "outputs": [],
   "source": []
  }
 ],
 "metadata": {
  "kernelspec": {
   "display_name": "Python 2",
   "language": "python",
   "name": "python2"
  },
  "language_info": {
   "codemirror_mode": {
    "name": "ipython",
    "version": 2
   },
   "file_extension": ".py",
   "mimetype": "text/x-python",
   "name": "python",
   "nbconvert_exporter": "python",
   "pygments_lexer": "ipython2",
   "version": "2.7.6"
  }
 },
 "nbformat": 4,
 "nbformat_minor": 0
}
