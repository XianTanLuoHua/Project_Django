{
 "cells": [
  {
   "cell_type": "code",
   "execution_count": 1,
   "metadata": {
    "collapsed": true
   },
   "outputs": [],
   "source": [
    "css \n",
    "    引用有三种方式:\n",
    "        行内式:语法简单方便直观, 复用性差\n",
    "        内嵌式:在一个界面范围里可以调用,在多个界面没有复用性\n",
    "        外链式:使cc样式与html页面分离,便于规划和维护,但是css文件代码过于集中容易造成混乱\n",
    "    css常用属性:\n",
    "        边框:\n",
    "            宽高度:\n",
    "                可以使用固定像素或者页面百分比\n",
    "                宽度width:50% 高度:hight:200px\n",
    "            border设置四周的边框:\n",
    "                -top -bottom -right -left 分别对应的上下左右\n",
    "                border-top:10px 样式 颜色\n",
    "                样式:\n",
    "                    dashed:虚线边框\n",
    "                    solid: 实现\n",
    "        文本:\n",
    "            \n",
    "            设置文本左右对其与居中: text-align:right left center \n",
    "            行高: line:hight=8  如不设置则默认为字体像素大小的一半\n",
    "            文字大小:font-size:16px 文字大小默认为16px\n",
    "            颜色: color:颜色\n",
    "            背景: bg:颜色或者图片"
   ]
  },
  {
   "cell_type": "code",
   "execution_count": 1,
   "metadata": {},
   "outputs": [],
   "source": [
    "css选择器:\n",
    "    css实现对htm中的元素一对一或者一对多的控制样式\n",
    "    css选择器常用种类:\n",
    "        标签选择器: 以标签开始,范围广影响大,做一些通用设计\n",
    "        类选择器:   以'.'定义类的样式,body中标签以class=选择类名\n",
    "        层级选择器: 可以单独从外层控制内层比如'div标签(类)里面的p标签设置成红色,外面的p不做改变',可以和类选择器组合使用\n",
    "        组合选择器: 把多个类选择器组成一体,以','分割,不同的类名实现不同的效果\n",
    "        id选择器:  以#开头,元素的id不能重复,跟类选择器差不多,使用id=主要在js中使用\n",
    "        伪类选择器: 设置特效,一般用来超链接"
   ]
  },
  {
   "cell_type": "code",
   "execution_count": 1,
   "metadata": {},
   "outputs": [],
   "source": [
    "css溢出:\n",
    "    当子控件的内容超出了父控件的\n",
    "    overflow设置选项:\n",
    "        hidden: 隐藏\n",
    "        auto:   自动滚动\n",
    "        visible:默认的设置\n",
    "    \n",
    "    \n"
   ]
  },
  {
   "cell_type": "code",
   "execution_count": 1,
   "metadata": {},
   "outputs": [],
   "source": [
    "css显示特性:\n",
    "    display:\n",
    "        常用属性:\n",
    "            none:   设置隐藏\n",
    "            inline: 把块设置成内联标签\n",
    "            block:  把内联变成块\n",
    "            inline-block:同时具有内联的在一行显示的特点和块标签能设置宽高"
   ]
  },
  {
   "cell_type": "code",
   "execution_count": 1,
   "metadata": {},
   "outputs": [],
   "source": [
    "浮动:\n",
    "    使文档脱离文档流,按照指定的方向(向左或者向右),直到他的外边缘碰到边框或另一个元素\n",
    "    浮动时会遮盖住没有浮动的元素,但是文本不会被遮盖而是把文本挤开环绕显示浮动元素的周围\n",
    "    float:\n",
    "        right: 向右边浮动\n",
    "        left:  向左边浮动"
   ]
  },
  {
   "cell_type": "code",
   "execution_count": null,
   "metadata": {},
   "outputs": [],
   "source": [
    "盒子模型:\n",
    "    盒子与盒子之间的间距(margin)\n",
    "    盒子的边框(border)\n",
    "    盒子内的内容和边框之间的间距(padding)\n",
    "\n",
    "    content:要显示的内容\n",
    "        width:\n",
    "        height:"
   ]
  },
  {
   "cell_type": "code",
   "execution_count": 1,
   "metadata": {},
   "outputs": [],
   "source": [
    "css制作表格:\n",
    "    表格有双边框。这是因为表和th/ td元素有独立的边界。\n",
    "    使用border-collapse:collapse 来让表格中的而边框进行折叠\n",
    "    style = \"border:2px solid red\" 代表边框2像素 实线 红色"
   ]
  },
  {
   "cell_type": "code",
   "execution_count": 1,
   "metadata": {},
   "outputs": [],
   "source": [
    "css制作列表标签:\n",
    "    可以使用float(有bug)和display将就用\n",
    "    <ul style=\"list-style: square inside\"> 表示列表使用正方形的标签在内侧显示"
   ]
  },
  {
   "cell_type": "code",
   "execution_count": 1,
   "metadata": {},
   "outputs": [],
   "source": []
  },
  {
   "cell_type": "code",
   "execution_count": 1,
   "metadata": {},
   "outputs": [],
   "source": []
  },
  {
   "cell_type": "code",
   "execution_count": 1,
   "metadata": {},
   "outputs": [],
   "source": []
  },
  {
   "cell_type": "code",
   "execution_count": 1,
   "metadata": {},
   "outputs": [],
   "source": []
  },
  {
   "cell_type": "code",
   "execution_count": 1,
   "metadata": {},
   "outputs": [],
   "source": []
  },
  {
   "cell_type": "code",
   "execution_count": 1,
   "metadata": {},
   "outputs": [],
   "source": []
  },
  {
   "cell_type": "code",
   "execution_count": 1,
   "metadata": {},
   "outputs": [],
   "source": []
  },
  {
   "cell_type": "code",
   "execution_count": 1,
   "metadata": {},
   "outputs": [],
   "source": []
  },
  {
   "cell_type": "code",
   "execution_count": 1,
   "metadata": {},
   "outputs": [],
   "source": []
  },
  {
   "cell_type": "code",
   "execution_count": 1,
   "metadata": {},
   "outputs": [],
   "source": []
  },
  {
   "cell_type": "code",
   "execution_count": 1,
   "metadata": {},
   "outputs": [],
   "source": []
  },
  {
   "cell_type": "code",
   "execution_count": 1,
   "metadata": {},
   "outputs": [],
   "source": []
  },
  {
   "cell_type": "code",
   "execution_count": null,
   "metadata": {},
   "outputs": [],
   "source": []
  }
 ],
 "metadata": {
  "kernelspec": {
   "display_name": "Python 2",
   "language": "python",
   "name": "python2"
  },
  "language_info": {
   "codemirror_mode": {
    "name": "ipython",
    "version": 2
   },
   "file_extension": ".py",
   "mimetype": "text/x-python",
   "name": "python",
   "nbconvert_exporter": "python",
   "pygments_lexer": "ipython2",
   "version": "2.7.6"
  }
 },
 "nbformat": 4,
 "nbformat_minor": 0
}
