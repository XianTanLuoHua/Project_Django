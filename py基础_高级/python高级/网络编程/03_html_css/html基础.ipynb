{
 "cells": [
  {
   "cell_type": "code",
   "execution_count": 1,
   "metadata": {
    "collapsed": true
   },
   "outputs": [],
   "source": [
    "html\n",
    "    标签:\n",
    "        用尖括号的都是标签\n",
    "        标签可以嵌套\n",
    "        元素指的是标签\n",
    "    标签区别:\n",
    "        显示不同:\n",
    "            块元素: 可以设置宽高属性 不能在一行显示每一块都是一行\n",
    "                标题标签:分h1-h6 加黑加粗\n",
    "                    h1:一级标题\n",
    "                    h2:二级标题\n",
    "                    ......\n",
    "                段落标签:\n",
    "                    <p>这个标签显示时也要独占一行\n",
    "                        正文\n",
    "                    </p>这个标签也要占一行\n",
    "\n",
    "                    <p>\n",
    "                        正文\n",
    "                    </p>\n",
    "\n",
    "                块容器标签: 需要配合css使用\n",
    "                    <div> 一个容器占用一行\n",
    "                        正文\n",
    "                    </div>\n",
    "                        \n",
    "            内联元素:内联元素不能设置宽高除了图片\n",
    "                <span>这是一个内联空白标签<span>\n",
    "                内联标签一行可以设置多个标签\n",
    "                多个内联元素在网页上一行显示\n",
    "                alt:图片加载失败显示alt内的内容\n",
    "                img  图片 alt\n",
    "                超连接  <a href='#'> 显示出来的东西</a>   href地址 #为占位\n",
    "            \n",
    "        书写不同:\n",
    "            双标签(闭合标签):\n",
    "                可以嵌套别的标签\n",
    "            单标签:\n",
    "                没有内容的\n",
    "               \n",
    "    基本结构:\n",
    "        声明:\n",
    "        head:\n",
    "        body:\n",
    "        \n",
    "    视口:是让移动端进行匹配信息的 没啥用移动端会单独做一个网页\n",
    "    html中常用标签与快捷键:\n",
    "        快捷键:\n",
    "            !+Tab快速生成模板代码\n",
    "            catl+/注释整行   选中catl+shift+/注释选中的\n",
    "        常用标签:\n",
    "\n",
    "\n",
    "        特殊标签:\n",
    "            </br> 换行标签\n",
    "            &nbsp   空格\n",
    "            &特殊字符\n",
    "            &gt  &lt    大于号 小于号\n",
    "\n",
    "                  \n",
    "    \n",
    "\n",
    "\n",
    "\n"
   ]
  },
  {
   "cell_type": "code",
   "execution_count": 1,
   "metadata": {},
   "outputs": [],
   "source": [
    "列表标签\n",
    "    无序列表标签:\n",
    "        <ul>\n",
    "            l1\n",
    "        </ul>\n",
    "    有序列表标签 ol"
   ]
  },
  {
   "cell_type": "code",
   "execution_count": 1,
   "metadata": {},
   "outputs": [],
   "source": [
    "表格标签规则 逐行绘制 先绘制tr 然后绘制td\n",
    "表格有双边框。这是因为表和th/ td元素有独立的边界。\n",
    "    tr 绘制行\n",
    "    td 绘制行中的列\n",
    "    th 绘制行中每列的标题 加黑加粗\n",
    "    \n",
    "    <table border=1px sl> border代表边框\n",
    "        \n",
    "        <tr>第一行\n",
    "            <td>\n",
    "                列1\n",
    "            </td>\n",
    "        </tr>\n",
    "\n",
    "        <tr>第二行\n",
    "            列2\n",
    "        </tr>\n",
    "\n",
    "\n",
    "\n",
    "    </table>\n",
    "不规则表格\n",
    "    colspan 列合并\n",
    "    rowspan 行合并\n",
    "\n"
   ]
  },
  {
   "cell_type": "code",
   "execution_count": 1,
   "metadata": {},
   "outputs": [],
   "source": [
    "表单提交\n",
    "使用键值对的方式提交\n",
    "<form action=提交地址 method=提交方式大多用post> 标签\n",
    "\n",
    "    input  type控制属性\n",
    "    <input type='text' name='set_name'> 输入框 表单名称set_name为键 test输入框内为值\n",
    "    \n",
    "    <input type='submit'> submit提交按钮\n",
    "    \n",
    "\n",
    "</form>"
   ]
  },
  {
   "cell_type": "code",
   "execution_count": 1,
   "metadata": {},
   "outputs": [],
   "source": []
  },
  {
   "cell_type": "code",
   "execution_count": 1,
   "metadata": {},
   "outputs": [],
   "source": []
  },
  {
   "cell_type": "code",
   "execution_count": 1,
   "metadata": {},
   "outputs": [],
   "source": []
  },
  {
   "cell_type": "code",
   "execution_count": 1,
   "metadata": {},
   "outputs": [],
   "source": []
  },
  {
   "cell_type": "code",
   "execution_count": 1,
   "metadata": {},
   "outputs": [],
   "source": []
  },
  {
   "cell_type": "code",
   "execution_count": 1,
   "metadata": {},
   "outputs": [],
   "source": []
  },
  {
   "cell_type": "code",
   "execution_count": 1,
   "metadata": {},
   "outputs": [],
   "source": []
  },
  {
   "cell_type": "code",
   "execution_count": 1,
   "metadata": {},
   "outputs": [],
   "source": []
  },
  {
   "cell_type": "code",
   "execution_count": null,
   "metadata": {},
   "outputs": [],
   "source": []
  }
 ],
 "metadata": {
  "kernelspec": {
   "display_name": "Python 2",
   "language": "python",
   "name": "python2"
  },
  "language_info": {
   "codemirror_mode": {
    "name": "ipython",
    "version": 2
   },
   "file_extension": ".py",
   "mimetype": "text/x-python",
   "name": "python",
   "nbconvert_exporter": "python",
   "pygments_lexer": "ipython2",
   "version": "2.7.6"
  }
 },
 "nbformat": 4,
 "nbformat_minor": 0
}
