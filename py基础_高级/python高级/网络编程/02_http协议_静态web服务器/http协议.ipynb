{
 "cells": [
  {
   "cell_type": "code",
   "execution_count": 1,
   "metadata": {
    "collapsed": true
   },
   "outputs": [],
   "source": [
    "http:\n",
    "    超文本传输协议\n",
    "    基于tcp传输协议传输数据\n",
    "    规定了浏览器与web服务器通信数据的格式\n",
    "    \n",
    "url:\n",
    "    全球资源定位符:\n",
    "        https://\n",
    "        http://网络通讯协议\n",
    "        ftp:// 文件下载协议\n",
    "域名:\n",
    "    dns服务器:把域名转换成ip地址\n"
   ]
  },
  {
   "cell_type": "code",
   "execution_count": 1,
   "metadata": {},
   "outputs": [],
   "source": [
    "请求的格式:\n",
    "    请求行:  动作 资源路径 协议/版本\\r\\n\n",
    "            get /index.html http/1.1\\r\\n\n",
    "        动作\n",
    "            get:没有请求体,获取web服务器上的数据\n",
    "            post:有请求体上传数据,向web服务器提交数据\n",
    "    请求头:\n",
    "        host:www.baidu.com:8080     服务器的主机和端口\n",
    "        User_Agent:   xxxx          浏览器信息\n",
    "        connection:keep-alive       和服务端保持长连接\n",
    "        accept-language:zh-cn,zh    可以接收的语言\n",
    "    空行\n",
    "    请求体:\n",
    "        如果需要上传需要有请求体"
   ]
  },
  {
   "cell_type": "code",
   "execution_count": 1,
   "metadata": {},
   "outputs": [],
   "source": [
    "响应的格式:\n",
    "    响应行: 协议/协议版本 状态码 状态描述\\r\\n\n",
    "           HTTP/1.1 200 OK\\r\\n \n",
    "           状态码:  \n",
    "                 200 :请求成功\n",
    "                 307 :重定向\n",
    "                 400 :错误的请求,请求地址有误\n",
    "                 404 :请求的资源服务器不存在\n",
    "                 500 :服务器内部源代码出现错误\n",
    "    响应头:\n",
    "        content-lenght:int 响应长度\n",
    "        content-type: text/html; charset=utf-8 控制网页的格式类型\n",
    "    空行\n",
    "    响应体:\n",
    "        显示网页的内容"
   ]
  },
  {
   "cell_type": "code",
   "execution_count": 1,
   "metadata": {},
   "outputs": [],
   "source": []
  },
  {
   "cell_type": "code",
   "execution_count": 1,
   "metadata": {},
   "outputs": [],
   "source": []
  },
  {
   "cell_type": "code",
   "execution_count": 1,
   "metadata": {},
   "outputs": [],
   "source": []
  },
  {
   "cell_type": "code",
   "execution_count": 1,
   "metadata": {},
   "outputs": [],
   "source": []
  },
  {
   "cell_type": "code",
   "execution_count": 1,
   "metadata": {},
   "outputs": [],
   "source": []
  },
  {
   "cell_type": "code",
   "execution_count": 1,
   "metadata": {},
   "outputs": [],
   "source": []
  },
  {
   "cell_type": "code",
   "execution_count": 1,
   "metadata": {},
   "outputs": [],
   "source": []
  },
  {
   "cell_type": "code",
   "execution_count": null,
   "metadata": {},
   "outputs": [],
   "source": []
  }
 ],
 "metadata": {
  "kernelspec": {
   "display_name": "Python 2",
   "language": "python",
   "name": "python2"
  },
  "language_info": {
   "codemirror_mode": {
    "name": "ipython",
    "version": 2
   },
   "file_extension": ".py",
   "mimetype": "text/x-python",
   "name": "python",
   "nbconvert_exporter": "python",
   "pygments_lexer": "ipython2",
   "version": "2.7.6"
  }
 },
 "nbformat": 4,
 "nbformat_minor": 0
}
