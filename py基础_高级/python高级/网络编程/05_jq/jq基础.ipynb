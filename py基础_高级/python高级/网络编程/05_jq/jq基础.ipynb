{
 "cells": [
  {
   "cell_type": "code",
   "execution_count": 1,
   "metadata": {
    "collapsed": true
   },
   "outputs": [],
   "source": [
    "jQuery:\\\n",
    "    是JavaScript的一个封装\n",
    "\n",
    "    常用语法:\n",
    "        $(选择器).func_name(function(){\n",
    "    \n",
    "    \n",
    "    })   \n",
    "\n",
    "        $(function(){\n",
    "        ......\n",
    "        })   页面加载之前执行function中的代码块.\n",
    "             跟js中的windows.onload 差不多  但是优先级比js的高(还可以用$(document).ready(function(){})差不多)\n",
    "\n",
    "\n",
    "\n",
    "\n",
    "\n",
    "\n"
   ]
  },
  {
   "cell_type": "code",
   "execution_count": 1,
   "metadata": {},
   "outputs": [],
   "source": [
    "修改标签属性时使用$('div').css({'color':'red'})中以字典方式修改\n",
    "使用标签获取所有标签中html内的东西时  只会获取第一个遇到的标签"
   ]
  },
  {
   "cell_type": "code",
   "execution_count": 1,
   "metadata": {},
   "outputs": [],
   "source": [
    "选择集过滤:\n",
    "    has:  $('div').has('#01').css({'background':'#d0d0d0'})选择div标签下的id为01的标签的css样式的背景为d0d0d0\n",
    "    eq:   $('div').eq(0).css({'backguound':'#d0d0d0'}) 选择div标签中的下标为0的标签(第一个标签)的css样式的背景为d0d0d0"
   ]
  },
  {
   "cell_type": "code",
   "execution_count": 1,
   "metadata": {},
   "outputs": [],
   "source": [
    "选择集转移:反选\n",
    "    $('#box1').nextall().css({'backguound':'#d0d0d0'}) 选择id为box1的下面所有的标签\n",
    "    $('#box1').next().css({'backguound':'#d0d0d0'}) 选择id为box1的下面的第一个标签\n",
    "    $('#box1').prev().css({'backguound':'#d0d0d0'}) 选择id为box1的上面的第一个标签\n",
    "    $('#box1').prevall().css({'backguound':'#d0d0d0'}) 选择id为box1的上面所有的标签\n",
    "    siblings 同类\n",
    "    parent 父类\n",
    "    children 子类\n",
    "    \n",
    "    "
   ]
  },
  {
   "cell_type": "code",
   "execution_count": 1,
   "metadata": {},
   "outputs": [],
   "source": [
    "jq常用操作:\n",
    "    修改内容: \n",
    "        获取标签的控件            var $a = $(\"#id\")\n",
    "        修改控件内容              $a.html(\"<p>你好</p>\")\n",
    "        增加控件内容              $a.append(\"<p>你好啊</p>\")\n",
    "        获取元素的属性 修改相当于重新赋值\n",
    "    属性操作:\n",
    "        prop 修改内部元素 \n",
    "            \n",
    "            prop内相当于重新修改了控件内部的键值对\n",
    "            如果没有相应的键值对 则是添加进去(如字典操作)"
   ]
  },
  {
   "cell_type": "code",
   "execution_count": 1,
   "metadata": {},
   "outputs": [],
   "source": [
    "事件:\n",
    "\n",
    "\n",
    "            $(\"#01\").blur(function () {\n",
    "                $(this).prop({'value':'点击到外面了'})\n",
    "\n",
    "            });\n",
    "    点击       click\n",
    "    得到焦点    focus\n",
    "    失去焦点    blur\n",
    "    鼠标经过    mousrover\n",
    "    鼠标离开    mouseenter"
   ]
  },
  {
   "cell_type": "code",
   "execution_count": 3,
   "metadata": {},
   "outputs": [],
   "source": [
    "事件代理:\n",
    "    this 代表对象本身\n",
    "    指定选择器设定delegate(代理的子类,事件,事件发生后的功能)\n",
    "    \n",
    "    $('#list').delegate('li', 'click', function () {\n",
    "                $(this).html('被点击了')\n",
    "            });\n",
    "    内层的事件会一层一层传到外部,父类会接收到子类的事件\n",
    "    设置父类代理子类的事件,让父类来统一实现子类的事件\n",
    "    "
   ]
  },
  {
   "cell_type": "code",
   "execution_count": 1,
   "metadata": {},
   "outputs": [],
   "source": [
    "js对象:\n",
    "    所有的事物都是对象:\n",
    "        var a = Object()\n",
    "            a.name = '小明'\n",
    "            \n",
    "    Object内部是键值对 来对应 属性和方法:\n",
    "        var a = {\n",
    "            name = 'xiaoming'\n",
    "            func_1 = function(){......}\n",
    "            }\n",
    "        \n",
    "        \n",
    "        "
   ]
  },
  {
   "cell_type": "code",
   "execution_count": 2,
   "metadata": {},
   "outputs": [],
   "source": [
    "json 内部必须使用双引号\n",
    "    是javascript的对象表示,json本质是一个字符串\n",
    "    json有两种格式:对象,数组"
   ]
  },
  {
   "cell_type": "code",
   "execution_count": 2,
   "metadata": {},
   "outputs": [],
   "source": [
    "ajax: 需要局部校验的\n",
    "      用户给服务器  服务器给客户 返回的data数据需要是json类型\n",
    "    $.ajax({\n",
    "    url\n",
    "    method\n",
    "    data\n",
    "    dataType\n",
    "    success\n",
    "    error\n",
    "    async\n",
    "})\n",
    "\n",
    "简洁写法:\n",
    "    $.get('url'),{'name':'xiaoming',function(data){console.log(\"成功\");,}}"
   ]
  },
  {
   "cell_type": "code",
   "execution_count": 2,
   "metadata": {},
   "outputs": [],
   "source": []
  },
  {
   "cell_type": "code",
   "execution_count": 2,
   "metadata": {},
   "outputs": [],
   "source": []
  },
  {
   "cell_type": "code",
   "execution_count": 2,
   "metadata": {},
   "outputs": [],
   "source": []
  },
  {
   "cell_type": "code",
   "execution_count": 2,
   "metadata": {},
   "outputs": [],
   "source": []
  },
  {
   "cell_type": "code",
   "execution_count": 2,
   "metadata": {},
   "outputs": [],
   "source": []
  },
  {
   "cell_type": "code",
   "execution_count": 2,
   "metadata": {},
   "outputs": [],
   "source": []
  },
  {
   "cell_type": "code",
   "execution_count": 2,
   "metadata": {},
   "outputs": [],
   "source": []
  },
  {
   "cell_type": "code",
   "execution_count": 2,
   "metadata": {},
   "outputs": [],
   "source": []
  },
  {
   "cell_type": "code",
   "execution_count": 2,
   "metadata": {},
   "outputs": [],
   "source": []
  },
  {
   "cell_type": "code",
   "execution_count": 2,
   "metadata": {},
   "outputs": [],
   "source": []
  },
  {
   "cell_type": "code",
   "execution_count": 2,
   "metadata": {},
   "outputs": [],
   "source": []
  },
  {
   "cell_type": "code",
   "execution_count": 2,
   "metadata": {},
   "outputs": [],
   "source": []
  },
  {
   "cell_type": "code",
   "execution_count": 2,
   "metadata": {},
   "outputs": [],
   "source": []
  },
  {
   "cell_type": "code",
   "execution_count": 2,
   "metadata": {},
   "outputs": [],
   "source": []
  },
  {
   "cell_type": "code",
   "execution_count": 2,
   "metadata": {},
   "outputs": [],
   "source": []
  },
  {
   "cell_type": "code",
   "execution_count": 2,
   "metadata": {},
   "outputs": [],
   "source": []
  },
  {
   "cell_type": "code",
   "execution_count": 2,
   "metadata": {},
   "outputs": [],
   "source": []
  },
  {
   "cell_type": "code",
   "execution_count": 2,
   "metadata": {},
   "outputs": [],
   "source": []
  },
  {
   "cell_type": "code",
   "execution_count": 2,
   "metadata": {},
   "outputs": [],
   "source": []
  },
  {
   "cell_type": "code",
   "execution_count": 2,
   "metadata": {},
   "outputs": [],
   "source": []
  },
  {
   "cell_type": "code",
   "execution_count": 2,
   "metadata": {},
   "outputs": [],
   "source": []
  },
  {
   "cell_type": "code",
   "execution_count": 2,
   "metadata": {},
   "outputs": [],
   "source": []
  },
  {
   "cell_type": "code",
   "execution_count": 2,
   "metadata": {},
   "outputs": [],
   "source": []
  },
  {
   "cell_type": "code",
   "execution_count": 2,
   "metadata": {},
   "outputs": [],
   "source": []
  },
  {
   "cell_type": "code",
   "execution_count": 2,
   "metadata": {},
   "outputs": [],
   "source": []
  },
  {
   "cell_type": "code",
   "execution_count": 2,
   "metadata": {},
   "outputs": [],
   "source": []
  },
  {
   "cell_type": "code",
   "execution_count": 2,
   "metadata": {},
   "outputs": [],
   "source": []
  },
  {
   "cell_type": "code",
   "execution_count": 2,
   "metadata": {},
   "outputs": [],
   "source": []
  },
  {
   "cell_type": "code",
   "execution_count": 2,
   "metadata": {},
   "outputs": [],
   "source": []
  },
  {
   "cell_type": "code",
   "execution_count": 2,
   "metadata": {},
   "outputs": [],
   "source": []
  },
  {
   "cell_type": "code",
   "execution_count": 2,
   "metadata": {},
   "outputs": [],
   "source": []
  },
  {
   "cell_type": "code",
   "execution_count": 2,
   "metadata": {},
   "outputs": [],
   "source": []
  },
  {
   "cell_type": "code",
   "execution_count": null,
   "metadata": {},
   "outputs": [],
   "source": []
  }
 ],
 "metadata": {
  "kernelspec": {
   "display_name": "Python 2",
   "language": "python",
   "name": "python2"
  },
  "language_info": {
   "codemirror_mode": {
    "name": "ipython",
    "version": 2
   },
   "file_extension": ".py",
   "mimetype": "text/x-python",
   "name": "python",
   "nbconvert_exporter": "python",
   "pygments_lexer": "ipython2",
   "version": "2.7.6"
  }
 },
 "nbformat": 4,
 "nbformat_minor": 0
}
