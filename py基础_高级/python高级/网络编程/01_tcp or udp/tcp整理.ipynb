{
 "cells": [
  {
   "cell_type": "code",
   "execution_count": 3,
   "metadata": {
    "collapsed": false
   },
   "outputs": [
    {
     "data": {
      "text/plain": [
       "4294967296"
      ]
     },
     "execution_count": 3,
     "metadata": {},
     "output_type": "execute_result"
    }
   ],
   "source": [
    "ip:作为网络中设备通讯的地址\n",
    "\n",
    "端口:\n",
    "    1.在ip内的操作系统层区分不同的软件\n",
    "    2.知名端口 0-1023 一般由系统服务层来进行调用\n",
    "    3.动态端口 1024-65535\n",
    "    4.服务端: 服务器是来提供服务的,端口号必须绑定\n",
    "      客户端: 端口号可以动态绑定"
   ]
  },
  {
   "cell_type": "code",
   "execution_count": 1,
   "metadata": {},
   "outputs": [],
   "source": [
    "tcp: \n",
    "    1.面向链接: 发送数据之前需要进行三次握手,确定链接稳定之后才会进行通讯\n",
    "    2.可靠传输:\n",
    "              tcp采用发送应答机制\n",
    "              超时重传\n",
    "              错误校验:根据md5加密,进行校验\n",
    "              流量控制和阻塞管理\n",
    "    注意:数据的发送与接收时需要进行解码编码\n",
    "    "
   ]
  },
  {
   "cell_type": "code",
   "execution_count": 1,
   "metadata": {},
   "outputs": [],
   "source": [
    "socket:\n",
    "    1.套接字,负责进程之间的网络数据传输\n",
    "    2.方法说明:\n",
    "              bind\n"
   ]
  },
  {
   "cell_type": "code",
   "execution_count": 4,
   "metadata": {},
   "outputs": [],
   "source": [
    ""
   ]
  },
  {
   "cell_type": "code",
   "execution_count": 4,
   "metadata": {},
   "outputs": [],
   "source": [
    "\n",
    "\n",
    "服务端:\n",
    "1.创建套接字 并让其端口复用\n",
    "2.绑定ip与端口\n",
    "3.设置等待列表,监听模式\n",
    "4.接收客户端的连接并创建一个对应的服务端的对象\n",
    "5.接收客户端的数据 \n",
    "6.服务端发送数据\n",
    "7.关闭\n",
    "\n",
    "客户端:\n",
    "1.创建套接字\n",
    "2.和服务端建立连接\n",
    "3.发送数据\n",
    "4.接收数据\n",
    "5.关闭"
   ]
  },
  {
   "cell_type": "code",
   "execution_count": 4,
   "metadata": {},
   "outputs": [],
   "source": []
  },
  {
   "cell_type": "code",
   "execution_count": 4,
   "metadata": {},
   "outputs": [],
   "source": []
  },
  {
   "cell_type": "code",
   "execution_count": 4,
   "metadata": {},
   "outputs": [],
   "source": []
  },
  {
   "cell_type": "code",
   "execution_count": 4,
   "metadata": {},
   "outputs": [],
   "source": []
  },
  {
   "cell_type": "code",
   "execution_count": 4,
   "metadata": {},
   "outputs": [],
   "source": []
  },
  {
   "cell_type": "code",
   "execution_count": 4,
   "metadata": {},
   "outputs": [],
   "source": []
  },
  {
   "cell_type": "code",
   "execution_count": null,
   "metadata": {},
   "outputs": [],
   "source": []
  }
 ],
 "metadata": {
  "kernelspec": {
   "display_name": "Python 2",
   "language": "python",
   "name": "python2"
  },
  "language_info": {
   "codemirror_mode": {
    "name": "ipython",
    "version": 2
   },
   "file_extension": ".py",
   "mimetype": "text/x-python",
   "name": "python",
   "nbconvert_exporter": "python",
   "pygments_lexer": "ipython2",
   "version": "2.7.6"
  }
 },
 "nbformat": 4,
 "nbformat_minor": 0
}
