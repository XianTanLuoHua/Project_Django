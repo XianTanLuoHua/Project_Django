{
 "cells": [
  {
   "cell_type": "code",
   "execution_count": 1,
   "metadata": {
    "collapsed": true
   },
   "outputs": [],
   "source": [
    "''\n",
    "'''\n",
    "        子进程和父进程的判断 可以通过 os.fork 中保存的数据知道   子进程==0  父进程>0\n",
    "        os.getpid()得到当前进程的pid号   os.getppid()得到父进程的pid号\n",
    "        fork创建的进程 主进程的结束不受子进程的影响\n",
    "        系统中最大可以有65535个进程 pid不允许有相同的\n",
    "        主进程在执行完毕后    子进程依然继续执行直到完毕\n",
    "        主进程与子进程数据并不互通\n",
    "        while True: fork炸弹子子孙孙无穷无尽\n",
    "            os.fork()\n",
    "'''\n",
    "\n",
    "\n",
    "'''\n",
    "        进程中的资源每个都是独立的   跟全局变量互不相同\n",
    "'''\n",
    "\n",
    "\n",
    "'''\n",
    "        process 创建的子进程都结束完主进程才会结束,但是不影响主进程的执行\n",
    "                主进程被终止或者kill时 子进程也跟随结束\n",
    "        obj.join(timeout)的特点是阻塞主进程   只有join()的对象执行完毕 主进程代码才会继续往下走 或者设置参数等待多少秒后向下执行 但join()的进程不会终止\n",
    "        obj.terminate 终结进程\n",
    "        obj.start 启动\n",
    "        obj.is_alive 判断进程是否在执行\n",
    "        os.getpid 得到主进程的pid\n",
    "        \n",
    "        使用multiprocessing.process创建子类来实现多进程                   参考案例 '多进程01':\n",
    "            用子类创建的进程  子类里面需要重新父类run 方法\n",
    "            \n",
    "            \n",
    "            \n",
    "            \n",
    "            \n",
    "        如果添加的任务大于进程池,没被执行的任务会等待进程池中的进程完成一个任务之后,会自动的用刚才的进程进完成当前的新任务\n",
    "        进程池 pool 一般用来缓冲 主进程结束后会kill子进程: p1 = pool(参数) 参数可以指定进程池中最大的进程数\n",
    "        解决方法:\n",
    "            Pool的实例对象 p1.closs() 关闭进程池 关闭之后不会再接收新的任务\n",
    "            p1.join()  必须放p1.closs()语句后面  阻塞主进程    必须等待p1 结束之后 主进程才会继续执行\n",
    "        进程越多的情况下 消耗的资源切换的资源会增多\n",
    "        添加方式 p1.apply_async(func1name,(参数,)) 这种方式添加的任务会并发执行 异步执行\n",
    "                p1.apply  阻塞同步执行,这种方式添加的任务,会等待上一次的任务结束,才会继续往执行进程池中间的任务\n",
    "        \n",
    "        \n",
    "        \n",
    "'''"
   ]
  },
  {
   "cell_type": "code",
   "execution_count": 1,
   "metadata": {},
   "outputs": [],
   "source": [
    "''\n",
    "'''\n",
    "        fork 与 multiprocessing的区别\n",
    "        \n",
    "        fork: 主进程不会等到子进程结束,过于底层    \n",
    "        ret = os.fork()\n",
    "        if ret ==0:\n",
    "            pass   #父子进程一起执行\n",
    "        else:\n",
    "            pass                \n",
    "        \n",
    "        \n",
    "        multiprocessing:  主进程会等待子进程结束后才会结束   \n",
    "        p1 = multiprocessing\n",
    "        p1 = pool()\n",
    "        进程池创建的进程,主进程一般用来等待进程池结束,真正的任务都在子进程中\n",
    "        \n",
    "        \n",
    "        \n",
    "'''"
   ]
  },
  {
   "cell_type": "code",
   "execution_count": 1,
   "metadata": {},
   "outputs": [],
   "source": [
    "''\n",
    "'''\n",
    "        进程间的通讯Queue 只用作用于multiprocessing.process创建的进程    队列 先进先出             案例  Queue_01\n",
    "        from multiprocessing import Queue     这种是用multiprocessing创建的多进程进行通讯时用到的\n",
    "        q = Queue(3)  初始化一个Queue对象 最多可接收3条put消息  如没有参数 则可以添加到内存的尽头\n",
    "        q.put()   往队列里面添加一个消息\n",
    "        q.full() 判断队列是否满载 如果队列满了返回True  反之False         案例  Queue_01\n",
    "        q.empty() 判断代码是否为空如果为空则返回True 反之False            案例  Queue_01\n",
    "        q.qsize  打印出来目前队列中的队列数量 ,如果队列中没有可以取出来的消息 则堵塞进程,等待传入消息    案例  Queue_01\n",
    "        q.put_nowait   不阻塞进程直接往里面传数据 如果数据已经满了 则会报错\n",
    "        q.get_nowait\n",
    "                        \n",
    "'''\n",
    "\n",
    "'''\n",
    "        进程池中的通讯\n",
    "        需要用到multiprocessing.Manager.Queue来接收消息\n",
    "        进程池pool中的Queue队列通讯\n",
    "        需要使用Managre.Queue 来进行通讯                                     案例   Managre.Queue_01\n",
    "        \n",
    "        \n",
    "        \n",
    "        \n",
    "        \n",
    "        \n",
    "        \n",
    "        \n",
    "'''"
   ]
  },
  {
   "cell_type": "code",
   "execution_count": 5,
   "metadata": {},
   "outputs": [
    {
     "name": "stdout",
     "output_type": "stream",
     "text": [
      "12116\n"
     ]
    }
   ],
   "source": [
    ""
   ]
  },
  {
   "cell_type": "code",
   "execution_count": 5,
   "metadata": {},
   "outputs": [],
   "source": [
    ""
   ]
  },
  {
   "cell_type": "code",
   "execution_count": 1,
   "metadata": {},
   "outputs": [],
   "source": []
  },
  {
   "cell_type": "code",
   "execution_count": 1,
   "metadata": {},
   "outputs": [],
   "source": []
  },
  {
   "cell_type": "code",
   "execution_count": null,
   "metadata": {},
   "outputs": [],
   "source": []
  }
 ],
 "metadata": {
  "kernelspec": {
   "display_name": "Python 2",
   "language": "python",
   "name": "python2"
  },
  "language_info": {
   "codemirror_mode": {
    "name": "ipython",
    "version": 2
   },
   "file_extension": ".py",
   "mimetype": "text/x-python",
   "name": "python",
   "nbconvert_exporter": "python",
   "pygments_lexer": "ipython2",
   "version": "2.7.6"
  }
 },
 "nbformat": 4,
 "nbformat_minor": 0
}
