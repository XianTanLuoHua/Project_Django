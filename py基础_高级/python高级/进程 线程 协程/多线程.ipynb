{
 "cells": [
  {
   "cell_type": "code",
   "execution_count": 1,
   "metadata": {
    "collapsed": true
   },
   "outputs": [],
   "source": [
    "程序:\\\n",
    "    可以理解成一堆代码形成的文档\n",
    "线程:\n",
    "    一个进程的独立运行片段,一个进程里面可以有多个线程\n",
    "    多线程之间的执行顺序是无序的\n",
    "    一个进程的多个线程间共享数据,和上下文运行环境\n",
    "    线程随着时间线轮转\n",
    "    共享互斥问题\n",
    "全局解释器锁(GTL):\n",
    "    python代码的执行是由python虚拟机进行控制\n",
    "    在主循环中只能有一个控制线程在执行\n",
    "主要的包:\n",
    "    _thread:在py3中已经废弃使用了\n",
    "    threading:常用的包\n",
    "        用threading.Thread生成Thread的实例:\n",
    "        t = threading.Thread(target=xxx,args=(xxx,))定义一个包含了函数和函数参数的实例t\n",
    "        t.start() 启动多线程\n",
    "        t.join()等待多线程执行完成\n",
    "        "
   ]
  },
  {
   "cell_type": "code",
   "execution_count": 4,
   "metadata": {},
   "outputs": [
    {
     "name": "stdout",
     "output_type": "stream",
     "text": [
      "4.478060722351074\n"
     ]
    }
   ],
   "source": [
    "单进程 多线程:\n",
    "    启动多线程后本体程序作为主线程存在\n",
    "    每个子线程都是独立的个体 相互跟其他子线程平行\n",
    "    主线程可以先运行完毕,等待子线程结束后 清理内存    等待时间不影响子线程的运行\n",
    "    代码规范:\n",
    "        f1 = threading.Thread(target=func_name,args=(参数,))\n",
    "        \n",
    "单线程执行顺序: 如果没有f1.join()则主程序会顺序执行 不等子线程结束就继续执行  但是主线程执行执行完毕后会等待子线程结束后给子线程清理内存, \n",
    "              等待时间不影响子线程的正常运行   参考文件                                   '单进程多线程01'\n",
    "    \n",
    "多线程的执行顺序: 没有规律!没有顺序,由系统调度  threading.Thread可以实例化一个对象   不过需要重写run方法'单进程多线程03_执行顺序'\n",
    "\n",
    "'''多线程内的全局变量''':是共享的  动一发而牵动全身               '单进程多线程04_全局变量'\n",
    "             如果两个线程共用一个全局变量那么可能会出现一些问题    '单进程多线程05_全局变量_资源竞争问题' \\\n",
    "             如果需要解决需要上互斥锁                          '单进程多线程05_全局变量_资源竞争问题互斥锁'\n",
    "给线程内的功能函数传可变数据类型 线程之间也是共享的                '单进程多线程06_列表传入'\n",
    "'''多线程的局部变量是独享的'''\n",
    "\n",
    "\n",
    "\n",
    "\n",
    "\n",
    "\n",
    "阻塞主进程: obj.join()\n",
    "    加入f1.join() 子线程都运行完毕才会继续往下执行 参考文件   '单进程多线程02'\n",
    "\n",
    "\n",
    "线程常用属性: 参考文件    '线程常用属性'\n",
    "    threading.currentThread 返回当前线程的变量\n",
    "    threading.enumerate 返回一个包含正在运行线程的list\n",
    "    threading.activeCount返回正在运行的线程的数量相当于 len(threading.enumerate)\n",
    "    threading.setName('str') 给线程设置名字\n",
    "    threading.getName('str') 得到线程的名字\n",
    "\n",
    "\n",
    "\n",
    "守护线程:daemon\n",
    "    如果程序中将子程序设置成守护线程则子线程会在主进程结束时自动退出\n",
    "    一般守护线程不那么重要  或者 此守护线程不允许离开主进程独立运行,参考文件                  '守护线程daemon'\n",
    "    守护线程的声明应该设置在线程运行之前\n",
    "    代码规范:\n",
    "        f1.setDaemon(True)\n",
    "        f1 = daemon = True\n",
    "        \n",
    "        \n"
   ]
  },
  {
   "cell_type": "code",
   "execution_count": 1,
   "metadata": {},
   "outputs": [
    {
     "data": {
      "text/plain": [
       "'\\n    \\n\\n'"
      ]
     },
     "execution_count": 1,
     "metadata": {},
     "output_type": "execute_result"
    }
   ],
   "source": [
    "'''\n",
    "        look 互斥锁解决线程重全局变量计算的问题,相同的数据需要使用同一把锁,    '单进程多线程05_全局变量_资源竞争问题互斥锁'\n",
    "        注意:! 加锁十分浪费系统资源\n",
    "'''"
   ]
  },
  {
   "cell_type": "code",
   "execution_count": 1,
   "metadata": {},
   "outputs": [],
   "source": [
    ""
   ]
  },
  {
   "cell_type": "code",
   "execution_count": 1,
   "metadata": {},
   "outputs": [],
   "source": []
  },
  {
   "cell_type": "code",
   "execution_count": 1,
   "metadata": {},
   "outputs": [],
   "source": []
  },
  {
   "cell_type": "code",
   "execution_count": 1,
   "metadata": {},
   "outputs": [],
   "source": []
  },
  {
   "cell_type": "code",
   "execution_count": 1,
   "metadata": {},
   "outputs": [],
   "source": []
  },
  {
   "cell_type": "code",
   "execution_count": null,
   "metadata": {},
   "outputs": [],
   "source": []
  }
 ],
 "metadata": {
  "kernelspec": {
   "display_name": "Python 2",
   "language": "python",
   "name": "python2"
  },
  "language_info": {
   "codemirror_mode": {
    "name": "ipython",
    "version": 2
   },
   "file_extension": ".py",
   "mimetype": "text/x-python",
   "name": "python",
   "nbconvert_exporter": "python",
   "pygments_lexer": "ipython2",
   "version": "2.7.6"
  }
 },
 "nbformat": 4,
 "nbformat_minor": 0
}
