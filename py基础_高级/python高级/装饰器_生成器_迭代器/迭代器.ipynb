{
 "cells": [
  {
   "cell_type": "code",
   "execution_count": 25,
   "metadata": {
    "collapsed": false
   },
   "outputs": [
    {
     "name": "stdout",
     "output_type": "stream",
     "text": [
      "<class '__main__.iter_next'>\n2\n4\n6\n8\n10\n14\n16\n18\n"
     ]
    }
   ],
   "source": [
    "''''''\n",
    "'''\n",
    "        列表包含的值太多 会占用大量内存\n",
    "        而迭代器不会 迭代器是在使用时逐一生成  迭代器只能向下取 取出后释放内存,且只能取出一次\n",
    "        __iter__  实现了__iter__方法的才是可迭代对象\n",
    "        __next__  具体实现代码\n",
    "        \n",
    "'''\n",
    "class iter_next():\n",
    "    def __init__(self):\n",
    "        self.num = 0\n",
    "    def __next__(self):  #next 定义了如何取得偶数\n",
    "        self.num += 2\n",
    "        return self.num\n",
    "    def __iter__(self): #iter 只是来返回对象\n",
    "        return self\n",
    "num = iter_next()\n",
    "# for i in range(5):\n",
    "#     print(next(num))\n",
    "\n",
    "print(type(num))\n",
    "\n",
    "for i in num:  # 实例化后的类本身可以迭代\n",
    "    if i <=10:\n",
    "        print(i)\n",
    "    else:\n",
    "        break\n",
    "print(next(num)) #可以一不一步往下迭代 通过next函数每次取值的时候迭代器对象会调用自身的__next__方法\n",
    "                    #并返回直刡迭代器没有值被返回旪，会抛出 StopIteration（停止迭代）异常\n",
    "\n",
    "\n",
    "print(next(num))\n",
    "print(next(num))"
   ]
  },
  {
   "cell_type": "code",
   "execution_count": 29,
   "metadata": {},
   "outputs": [
    {
     "name": "stdout",
     "output_type": "stream",
     "text": [
      "1\n2\n3\n4\n5\n6\n"
     ]
    },
    {
     "ename": "StopIteration",
     "evalue": "",
     "traceback": [
      "\u001b[0;31m---------------------------------------------------------------------------\u001b[0m",
      "\u001b[0;31mStopIteration\u001b[0m                             Traceback (most recent call last)",
      "\u001b[0;32m<ipython-input-29-2dbaeb38ef29>\u001b[0m in \u001b[0;36m<module>\u001b[0;34m()\u001b[0m\n\u001b[1;32m      8\u001b[0m     \u001b[0mprint\u001b[0m\u001b[0;34m(\u001b[0m\u001b[0mnext\u001b[0m\u001b[0;34m(\u001b[0m\u001b[0ma\u001b[0m\u001b[0;34m)\u001b[0m\u001b[0;34m)\u001b[0m\u001b[0;34m\u001b[0m\u001b[0m\n\u001b[1;32m      9\u001b[0m \u001b[0;32mfor\u001b[0m \u001b[0mi\u001b[0m \u001b[0;32min\u001b[0m \u001b[0mrange\u001b[0m\u001b[0;34m(\u001b[0m\u001b[0;36m6\u001b[0m\u001b[0;34m)\u001b[0m\u001b[0;34m:\u001b[0m\u001b[0;34m\u001b[0m\u001b[0m\n\u001b[0;32m---> 10\u001b[0;31m     \u001b[0mprint\u001b[0m\u001b[0;34m(\u001b[0m\u001b[0mnext\u001b[0m\u001b[0;34m(\u001b[0m\u001b[0ma\u001b[0m\u001b[0;34m)\u001b[0m\u001b[0;34m)\u001b[0m\u001b[0;34m\u001b[0m\u001b[0m\n\u001b[0m",
      "\u001b[0;31mStopIteration\u001b[0m: "
     ],
     "output_type": "error"
    }
   ],
   "source": [
    "''\n",
    "'''\n",
    "        内置函数iter()能从可迭代对象中取得生成器并通过内置函数next()实现逐一读取\n",
    "'''\n",
    "a = iter([1,2,3,4,5,6])\n",
    "\n",
    "for c in range(2): #这里取出了两个数字\n",
    "    print(next(a))\n",
    "    \n",
    "for i in range(6):#这里会接着上面的取.无法从头开始\n",
    "    print(next(a))"
   ]
  },
  {
   "cell_type": "code",
   "execution_count": 4,
   "metadata": {},
   "outputs": [],
   "source": [
    ""
   ]
  },
  {
   "cell_type": "code",
   "execution_count": 5,
   "metadata": {},
   "outputs": [
    {
     "name": "stdout",
     "output_type": "stream",
     "text": [
      "[1, 0, 1, 1]\n"
     ]
    }
   ],
   "source": [
    "\n",
    "\n",
    "doors = [('堵塞', '通行'), ('通行', '堵塞'), ('堵塞', '通行'), ('堵塞', '通行')]\n",
    "print(go(doors))"
   ]
  },
  {
   "cell_type": "code",
   "execution_count": 1,
   "metadata": {},
   "outputs": [],
   "source": [
    ""
   ]
  },
  {
   "cell_type": "code",
   "execution_count": 1,
   "metadata": {},
   "outputs": [],
   "source": [
    ""
   ]
  },
  {
   "cell_type": "code",
   "execution_count": 1,
   "metadata": {},
   "outputs": [],
   "source": [
    ""
   ]
  },
  {
   "cell_type": "code",
   "execution_count": 20,
   "metadata": {},
   "outputs": [],
   "source": []
  },
  {
   "cell_type": "code",
   "execution_count": 20,
   "metadata": {},
   "outputs": [],
   "source": []
  },
  {
   "cell_type": "code",
   "execution_count": 20,
   "metadata": {},
   "outputs": [],
   "source": []
  },
  {
   "cell_type": "code",
   "execution_count": 20,
   "metadata": {},
   "outputs": [],
   "source": []
  },
  {
   "cell_type": "code",
   "execution_count": 20,
   "metadata": {},
   "outputs": [],
   "source": []
  },
  {
   "cell_type": "code",
   "execution_count": 20,
   "metadata": {},
   "outputs": [],
   "source": []
  },
  {
   "cell_type": "code",
   "execution_count": null,
   "metadata": {},
   "outputs": [],
   "source": []
  }
 ],
 "metadata": {
  "kernelspec": {
   "display_name": "Python 2",
   "language": "python",
   "name": "python2"
  },
  "language_info": {
   "codemirror_mode": {
    "name": "ipython",
    "version": 2
   },
   "file_extension": ".py",
   "mimetype": "text/x-python",
   "name": "python",
   "nbconvert_exporter": "python",
   "pygments_lexer": "ipython2",
   "version": "2.7.6"
  }
 },
 "nbformat": 4,
 "nbformat_minor": 0
}
