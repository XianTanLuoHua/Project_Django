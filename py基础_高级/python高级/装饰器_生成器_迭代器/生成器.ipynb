{
 "cells": [
  {
   "cell_type": "code",
   "execution_count": 1,
   "metadata": {
    "collapsed": true
   },
   "outputs": [
    {
     "name": "stdout",
     "output_type": "stream",
     "text": [
      "3\n6\n9\n9\n12\n123\n12456\n"
     ]
    },
    {
     "ename": "StopIteration",
     "evalue": "",
     "traceback": [
      "\u001b[0;31m---------------------------------------------------------------------------\u001b[0m",
      "\u001b[0;31mStopIteration\u001b[0m                             Traceback (most recent call last)",
      "\u001b[0;32m<ipython-input-1-bbc9532d31e4>\u001b[0m in \u001b[0;36m<module>\u001b[0;34m()\u001b[0m\n\u001b[1;32m     17\u001b[0m     \u001b[0;32mexcept\u001b[0m\u001b[0;34m:\u001b[0m\u001b[0;34m\u001b[0m\u001b[0m\n\u001b[1;32m     18\u001b[0m         \u001b[0;32mbreak\u001b[0m  \u001b[0;31m#捕捉异常进行输出结束\u001b[0m\u001b[0;34m\u001b[0m\u001b[0m\n\u001b[0;32m---> 19\u001b[0;31m \u001b[0mprint\u001b[0m\u001b[0;34m(\u001b[0m\u001b[0mnext\u001b[0m\u001b[0;34m(\u001b[0m\u001b[0ma\u001b[0m\u001b[0;34m)\u001b[0m\u001b[0;34m)\u001b[0m \u001b[0;31m#这里报错了 迭代器已经取完值了会报错 所以上方才会有异常捕捉 StopIteration\u001b[0m\u001b[0;34m\u001b[0m\u001b[0m\n\u001b[0m",
      "\u001b[0;31mStopIteration\u001b[0m: "
     ],
     "output_type": "error"
    }
   ],
   "source": [
    "''\n",
    "'''\n",
    "        生成器 yield\n",
    "            生成器是通过函数实现的迭代器\n",
    "            yield 能指定生成某个函数的计算结果\n",
    "            包含yield的语句都是生成器\n",
    "'''\n",
    "\n",
    "def set_yield(lst):#定义生成器函数\n",
    "    for i in lst:#循环遍历参数列表\n",
    "        if i %3 ==0:#判断是否符合条件\n",
    "            yield i#根据生成器返回计算结果\n",
    "a = set_yield([1,2,3,4,5,6,7,8,9,9,12,123,145,12456])\n",
    "while True:\n",
    "    try:\n",
    "        print(next(a))  #通过内置函数逐一输出 因为是WhileTrue所以会无限取 会出错被下方捕捉\n",
    "    except:\n",
    "        break  #捕捉异常进行输出结束\n",
    "print(next(a)) #这里报错了 迭代器已经取完值了会报错 所以上方才会有异常捕捉 StopIteration\n"
   ]
  },
  {
   "cell_type": "code",
   "execution_count": 2,
   "metadata": {},
   "outputs": [
    {
     "name": "stdout",
     "output_type": "stream",
     "text": [
      "1\n[2, 4, 5, 7, 8, 10, 11, 13, 14, 16, 17, 19, 20, 22, 23, 25, 26, 28, 29, 31, 32, 34, 35, 37, 38, 40, 41, 43, 44, 46, 47, 49, 50, 52, 53, 55, 56, 58, 59, 61, 62, 64, 65, 67, 68, 70, 71, 73, 74, 76, 77, 79, 80, 82, 83, 85, 86, 88, 89, 91, 92, 94, 95, 97, 98]\n"
     ]
    }
   ],
   "source": [
    "''\n",
    "'''\n",
    "        生成器推导式\n",
    "'''\n",
    "a = (i for i in range(100) if i %3 !=0)\n",
    "print(next(a))\n",
    "print(list(a))  #  让剩余的作为列表打印出来"
   ]
  },
  {
   "cell_type": "code",
   "execution_count": 5,
   "metadata": {},
   "outputs": [
    {
     "name": "stdout",
     "output_type": "stream",
     "text": [
      "[1, 2, 3, 4, 5, 2, 3, 4, 1, 1, 213, '哈哈哈', 5, 12, 5, 7, 1, 56, 7, 2]\n"
     ]
    }
   ],
   "source": [
    "''\n",
    "'''\n",
    "        小技巧\n",
    "        通过yield 只能向下取值  来取出双层嵌套列表\n",
    "'''\n",
    "a = [[1,2,3,4,5],2,3,4,1,[1,213,'哈哈哈',5],12,5,7,[1,56,7,2,]]\n",
    "def get_list(lst):\n",
    "    \n",
    "    for i in lst: #循环遍历\n",
    "        try:#因为列表一级str可以遍历的所以不会触发异常接着运行\n",
    "            for c in i:#取出列表中的可迭代对象 返回迭代器对象\n",
    "                yield c\n",
    "        except:#int类型无法被迭代 会被捕捉到   返回int  达成目标\n",
    "            yield i\n",
    "c = get_list(a)\n",
    "print(list(c))\n"
   ]
  },
  {
   "cell_type": "code",
   "execution_count": 6,
   "metadata": {},
   "outputs": [
    {
     "name": "stdout",
     "output_type": "stream",
     "text": [
      "[1, 2, 123, 1, 123, 4, 51, 123, '哈', '哈', '哈', 3, 1, 7, 45, 35, 1235, 123, 1234, 123]\n"
     ]
    }
   ],
   "source": [
    "''\n",
    "'''\n",
    "        小技巧\n",
    "        通过yield 只能向下取值  来取出无限层的列表并生成可迭代对象\n",
    "                                    列表中的列表嵌套次数来决定递归的次数\n",
    "'''\n",
    "def list_yield(lst):\n",
    "    for i in lst:\n",
    "        try: #如果是可迭代对象则往下进行 进行递归\n",
    "            for d in list_yield(i):\n",
    "                yield d\n",
    "        except:#不可迭代对象会生成值进行返回\n",
    "            yield i\n",
    "c = [1,2,123,1,[123,4,51,[123,'哈哈哈',3,[1,7],45,35,],1235,123,[1234,],123]]\n",
    "a = list_yield(c)\n",
    "print(list(a))\n",
    "     "
   ]
  },
  {
   "cell_type": "code",
   "execution_count": 1,
   "metadata": {},
   "outputs": [
    {
     "name": "stdout",
     "output_type": "stream",
     "text": [
      "[1, 2, 123, 1, 123, 4, 51, 123, 'abc', 3, 1, 7, 45, 51, 123, 'abc', 3, 1, 7, 45, 35, 35, 51, 123, 'abc', 3, 1, 7, 45, 35, 1235, 123, 1234, 123]\n"
     ]
    }
   ],
   "source": [
    "''\n",
    "'''\n",
    "        小技巧\n",
    "        通过yield 只能向下取值  来取出无限层的列表并生成可迭代对象\n",
    "                                    列表中的列表嵌套次数来决定递归的次数\n",
    "        上方代码有个bug 如果碰到字符串 会把字符拆开  不ok\n",
    "                \n",
    "'''\n",
    "def list_str_yield(lst):\n",
    "    for i in lst:\n",
    "        try:\n",
    "            try:               #如果是字符串就可以加空白字符不会出错则直接执行else语句不会进行拆分了,直接返回一整个\n",
    "                i+''\n",
    "            except:            #如果不能相加会报错直接pass  执行下面的for循环进行递归\n",
    "                pass\n",
    "            else:              #字符串到这里应引发一个异常 被外界捕获\n",
    "                raise Exception\n",
    "            for d in list_str_yield(i):\n",
    "                yield d\n",
    "        except:\n",
    "            yield i\n",
    "c = [1,2,123,1,[123,4,51,[123,'abc',3,[1,7],45,51,[123,'abc',3,[1,7],45,35,],35,],51,[123,'abc',3,[1,7],45,35,],1235,123,[1234,],123]]\n",
    "a = list_str_yield(c)\n",
    "print(list(a))"
   ]
  },
  {
   "cell_type": "code",
   "execution_count": 62,
   "metadata": {},
   "outputs": [
    {
     "name": "stdout",
     "output_type": "stream",
     "text": [
      "aaa\nbbb\np1是send传过来的\n"
     ]
    },
    {
     "data": {
      "text/plain": [
       "\"\\n        首先生成一个迭代器r  执行到next(r)的时候进入迭代器内部执行第一句print('aaa')语句\\n        然后执行p1 = yield '123' 迭代跳出 执行r.send('hello')并且把'hello'传入进去赋值给p1\\n        继续向下执行输出'bbb'  向下执行进行判断成立执行输出'p1是send传过来的',\\n        \\n\""
      ]
     },
     "execution_count": 62,
     "metadata": {},
     "output_type": "execute_result"
    }
   ],
   "source": [
    "''\n",
    "'''\n",
    "        生成器的三种方法\n",
    "            send():不能直接用需要迭代器最少迭代一次 才能使用.因为send()是取回前一次的生成结果!\n",
    "            throw()引发生成器异常\n",
    "            close()关闭生成器 之后无法再生成\n",
    "            \n",
    "'''\n",
    "\n",
    "def a():\n",
    "    print('aaa')\n",
    "    p1 = yield '123'\n",
    "    print('bbb')\n",
    "    if (p1 == 'hello'):\n",
    "        print('p1是send传过来的')\n",
    "    p2= yield '234'\n",
    "    print(p2)\n",
    "\n",
    "r = a() \n",
    "next(r)\n",
    "r.send('hello')\n",
    "# print(next(r))\n",
    "'''\n",
    "        首先 a是一个生成器 生成一个迭代器r  执行到next(r)的时候进入迭代器内部执行第一句print('aaa')语句\n",
    "        然后执行p1 = yield '123' 迭代跳出 执行r.send('hello')并且把'hello'传入进去赋值给p1\n",
    "        继续向下执行输出'bbb'  向下执行进行判断成立执行输出'p1是send传过来的',\n",
    "        \n",
    "'''\n",
    "\n"
   ]
  },
  {
   "cell_type": "code",
   "execution_count": 80,
   "metadata": {},
   "outputs": [
    {
     "name": "stdout",
     "output_type": "stream",
     "text": [
      "96\n"
     ]
    },
    {
     "ename": "Exception",
     "evalue": "终止了",
     "traceback": [
      "\u001b[0;31m---------------------------------------------------------------------------\u001b[0m",
      "\u001b[0;31mException\u001b[0m                                 Traceback (most recent call last)",
      "\u001b[0;32m<ipython-input-80-49c3a8465953>\u001b[0m in \u001b[0;36ml_list\u001b[0;34m(lst)\u001b[0m\n\u001b[1;32m      4\u001b[0m             \u001b[0;32mif\u001b[0m \u001b[0mi\u001b[0m \u001b[0;34m%\u001b[0m \u001b[0;36m3\u001b[0m \u001b[0;34m==\u001b[0m \u001b[0;36m0\u001b[0m\u001b[0;34m:\u001b[0m\u001b[0;34m\u001b[0m\u001b[0m\n\u001b[0;32m----> 5\u001b[0;31m                 \u001b[0;32myield\u001b[0m \u001b[0mi\u001b[0m\u001b[0;34m\u001b[0m\u001b[0m\n\u001b[0m\u001b[1;32m      6\u001b[0m     \u001b[0;32mexcept\u001b[0m\u001b[0;34m:\u001b[0m\u001b[0;34m\u001b[0m\u001b[0m\n",
      "\u001b[0;31mException\u001b[0m: ",
      "\nDuring handling of the above exception, another exception occurred:\n",
      "\u001b[0;31mException\u001b[0m                                 Traceback (most recent call last)",
      "\u001b[0;32m<ipython-input-80-49c3a8465953>\u001b[0m in \u001b[0;36m<module>\u001b[0;34m()\u001b[0m\n\u001b[1;32m      9\u001b[0m \u001b[0ms\u001b[0m \u001b[0;34m=\u001b[0m \u001b[0ml_list\u001b[0m\u001b[0;34m(\u001b[0m\u001b[0ma\u001b[0m\u001b[0;34m)\u001b[0m\u001b[0;34m\u001b[0m\u001b[0m\n\u001b[1;32m     10\u001b[0m \u001b[0mprint\u001b[0m\u001b[0;34m(\u001b[0m\u001b[0mnext\u001b[0m\u001b[0;34m(\u001b[0m\u001b[0ms\u001b[0m\u001b[0;34m)\u001b[0m\u001b[0;34m)\u001b[0m\u001b[0;34m\u001b[0m\u001b[0m\n\u001b[0;32m---> 11\u001b[0;31m \u001b[0ms\u001b[0m\u001b[0;34m.\u001b[0m\u001b[0mthrow\u001b[0m\u001b[0;34m(\u001b[0m\u001b[0mException\u001b[0m\u001b[0;34m)\u001b[0m\u001b[0;34m\u001b[0m\u001b[0m\n\u001b[0m\u001b[1;32m     12\u001b[0m \u001b[0;34m\u001b[0m\u001b[0m\n",
      "\u001b[0;32m<ipython-input-80-49c3a8465953>\u001b[0m in \u001b[0;36ml_list\u001b[0;34m(lst)\u001b[0m\n\u001b[1;32m      5\u001b[0m                 \u001b[0;32myield\u001b[0m \u001b[0mi\u001b[0m\u001b[0;34m\u001b[0m\u001b[0m\n\u001b[1;32m      6\u001b[0m     \u001b[0;32mexcept\u001b[0m\u001b[0;34m:\u001b[0m\u001b[0;34m\u001b[0m\u001b[0m\n\u001b[0;32m----> 7\u001b[0;31m         \u001b[0;32mraise\u001b[0m \u001b[0mException\u001b[0m\u001b[0;34m(\u001b[0m\u001b[0;34m'终止了'\u001b[0m\u001b[0;34m)\u001b[0m\u001b[0;34m\u001b[0m\u001b[0m\n\u001b[0m\u001b[1;32m      8\u001b[0m \u001b[0ma\u001b[0m \u001b[0;34m=\u001b[0m \u001b[0;34m[\u001b[0m\u001b[0;36m96\u001b[0m\u001b[0;34m,\u001b[0m\u001b[0;36m19\u001b[0m\u001b[0;34m,\u001b[0m\u001b[0;36m29\u001b[0m\u001b[0;34m,\u001b[0m\u001b[0;36m72\u001b[0m\u001b[0;34m,\u001b[0m\u001b[0;36m16\u001b[0m\u001b[0;34m,\u001b[0m\u001b[0;36m3\u001b[0m\u001b[0;34m,\u001b[0m\u001b[0;36m45\u001b[0m\u001b[0;34m,\u001b[0m\u001b[0;36m6\u001b[0m\u001b[0;34m,\u001b[0m\u001b[0;36m7\u001b[0m\u001b[0;34m,\u001b[0m\u001b[0;36m9\u001b[0m\u001b[0;34m,\u001b[0m\u001b[0;36m15\u001b[0m\u001b[0;34m,\u001b[0m\u001b[0;36m10\u001b[0m\u001b[0;34m]\u001b[0m\u001b[0;34m\u001b[0m\u001b[0m\n\u001b[1;32m      9\u001b[0m \u001b[0ms\u001b[0m \u001b[0;34m=\u001b[0m \u001b[0ml_list\u001b[0m\u001b[0;34m(\u001b[0m\u001b[0ma\u001b[0m\u001b[0;34m)\u001b[0m\u001b[0;34m\u001b[0m\u001b[0m\n",
      "\u001b[0;31mException\u001b[0m: 终止了"
     ],
     "output_type": "error"
    }
   ],
   "source": [
    "''\n",
    "'''\n",
    "        迭代过程中用户引发异常\n",
    "'''\n",
    "def l_list(lst):\n",
    "    try:\n",
    "        for i in lst:\n",
    "            if i % 3 == 0:\n",
    "                yield i\n",
    "    except:\n",
    "        raise Exception('终止了')\n",
    "a = [96,19,29,72,16,3,45,6,7,9,15,10]\n",
    "s = l_list(a)\n",
    "print(next(s))\n",
    "s.throw(Exception)\n",
    "\n"
   ]
  },
  {
   "cell_type": "code",
   "execution_count": 87,
   "metadata": {},
   "outputs": [
    {
     "name": "stdout",
     "output_type": "stream",
     "text": [
      "96\n72\n"
     ]
    },
    {
     "ename": "TypeError",
     "evalue": "'list' object is not an iterator",
     "traceback": [
      "\u001b[0;31m---------------------------------------------------------------------------\u001b[0m",
      "\u001b[0;31mTypeError\u001b[0m                                 Traceback (most recent call last)",
      "\u001b[0;32m<ipython-input-87-e6ff3ee74fe6>\u001b[0m in \u001b[0;36m<module>\u001b[0;34m()\u001b[0m\n\u001b[1;32m     12\u001b[0m \u001b[0mprint\u001b[0m\u001b[0;34m(\u001b[0m\u001b[0mnext\u001b[0m\u001b[0;34m(\u001b[0m\u001b[0ms\u001b[0m\u001b[0;34m)\u001b[0m\u001b[0;34m)\u001b[0m\u001b[0;34m\u001b[0m\u001b[0m\n\u001b[1;32m     13\u001b[0m \u001b[0ms\u001b[0m\u001b[0;34m.\u001b[0m\u001b[0mclose\u001b[0m\u001b[0;34m(\u001b[0m\u001b[0;34m)\u001b[0m \u001b[0;31m#这里进行手动关闭\u001b[0m\u001b[0;34m\u001b[0m\u001b[0m\n\u001b[0;32m---> 14\u001b[0;31m \u001b[0mprint\u001b[0m\u001b[0;34m(\u001b[0m\u001b[0mnext\u001b[0m\u001b[0;34m(\u001b[0m\u001b[0ma\u001b[0m\u001b[0;34m)\u001b[0m\u001b[0;34m)\u001b[0m \u001b[0;31m#这里已经关闭了 TypeError: 'list' object is not an iterator\u001b[0m\u001b[0;34m\u001b[0m\u001b[0m\n\u001b[0m",
      "\u001b[0;31mTypeError\u001b[0m: 'list' object is not an iterator"
     ],
     "output_type": "error"
    }
   ],
   "source": [
    "''\n",
    "'''\n",
    "        close()用于手动关闭生成器,关闭之后无法手动再生成\n",
    "'''\n",
    "def l_list(lst):\n",
    "    for i in lst:\n",
    "        if i %3 ==0:\n",
    "            yield i\n",
    "a = [96,19,29,72,16,3,45,6,7,9,15,10]\n",
    "s = l_list(a)\n",
    "print(next(s))\n",
    "print(next(s))\n",
    "s.close() #这里进行手动关闭\n",
    "print(next(a)) #这里已经关闭了 TypeError: 'list' object is not an iterator"
   ]
  },
  {
   "cell_type": "code",
   "execution_count": 7,
   "metadata": {},
   "outputs": [
    {
     "name": "stdout",
     "output_type": "stream",
     "text": [
      "C:\\Users\\84931\\Desktop\\my_project\\上课代码\n"
     ]
    }
   ],
   "source": [
    "import os\n",
    "print(os.getcwd())"
   ]
  },
  {
   "cell_type": "code",
   "execution_count": 69,
   "metadata": {},
   "outputs": [],
   "source": []
  },
  {
   "cell_type": "code",
   "execution_count": 69,
   "metadata": {},
   "outputs": [],
   "source": []
  },
  {
   "cell_type": "code",
   "execution_count": 69,
   "metadata": {},
   "outputs": [],
   "source": []
  },
  {
   "cell_type": "code",
   "execution_count": 69,
   "metadata": {},
   "outputs": [],
   "source": []
  },
  {
   "cell_type": "code",
   "execution_count": null,
   "metadata": {},
   "outputs": [],
   "source": []
  }
 ],
 "metadata": {
  "kernelspec": {
   "display_name": "Python 2",
   "language": "python",
   "name": "python2"
  },
  "language_info": {
   "codemirror_mode": {
    "name": "ipython",
    "version": 2
   },
   "file_extension": ".py",
   "mimetype": "text/x-python",
   "name": "python",
   "nbconvert_exporter": "python",
   "pygments_lexer": "ipython2",
   "version": "2.7.6"
  }
 },
 "nbformat": 4,
 "nbformat_minor": 0
}
