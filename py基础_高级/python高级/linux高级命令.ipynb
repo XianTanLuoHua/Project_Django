{
 "cells": [
  {
   "cell_type": "code",
   "execution_count": 1,
   "metadata": {
    "collapsed": true
   },
   "outputs": [],
   "source": [
    "ln -s path New_Path     软连接 快捷方式  在当前指定路径下创建目标的软连接,尽量使用绝对路径                      文件和文件夹都可使用\n",
    "ln path New_Path_Name   硬链接 备份文件  给指定文件设置一个别名 两个名字指向同一个目标,源文件被删除不影响其他文件  只能文件使用"
   ]
  },
  {
   "cell_type": "code",
   "execution_count": 1,
   "metadata": {},
   "outputs": [],
   "source": [
    "grep        区分大小写 文本查找和管道配合使用\n",
    "    -i file 忽略大小写进行查找\n",
    "    -n file 找出来显出目标在多少行\n",
    "    -v file 反向查找,显示除了目标文本以外的文件\n",
    "    通配符:\n",
    "        '^a. b$' 表示以'a'开头,'.'是匹配一个任意非换行的字符,一个空格' '后,以'b'结尾的4个字符\n"
   ]
  },
  {
   "cell_type": "code",
   "execution_count": 1,
   "metadata": {},
   "outputs": [],
   "source": [
    "find ./ file 在当前'./'目录下包括所有的子目录,查找文件名或目录 如果不存在则会给出提示信息\n",
    "    -name 根据名字去查找 如果不存在也不会报错\n",
    "    通配符:\n",
    "        '?' 代表任意一个字符\n",
    "        '*' 表示0个或多个任意字符\n",
    "\n",
    "\n",
    "通配符不仅能结合 find 命令使用，还可以结合其它命令使用,\n",
    "比如: ls、mv、cp 等，这里需要注意只有 find 命令使用通配符需要加上引号。\n",
    "cp 1*1.txt AA\n",
    "\n",
    "print()"
   ]
  },
  {
   "cell_type": "code",
   "execution_count": 1,
   "metadata": {},
   "outputs": [],
   "source": [
    "创建用户名\n",
    "设置密码\n",
    "添加附加组\n",
    "删除附加组\n",
    "删除用户\n",
    "删除用户组"
   ]
  },
  {
   "cell_type": "code",
   "execution_count": 1,
   "metadata": {},
   "outputs": [],
   "source": [
    "ssh\n",
    "scp"
   ]
  },
  {
   "cell_type": "code",
   "execution_count": 1,
   "metadata": {},
   "outputs": [],
   "source": [
    "v < > . "
   ]
  },
  {
   "cell_type": "code",
   "execution_count": 1,
   "metadata": {},
   "outputs": [],
   "source": [
    "sudo dpkg path\n",
    "sudo apt install name\n",
    "sudo apt-get install name\n",
    "\n",
    "sudu apt remove name\n",
    "\n",
    "sudo apt-get update"
   ]
  },
  {
   "cell_type": "code",
   "execution_count": 1,
   "metadata": {},
   "outputs": [],
   "source": []
  },
  {
   "cell_type": "code",
   "execution_count": 1,
   "metadata": {},
   "outputs": [],
   "source": []
  },
  {
   "cell_type": "code",
   "execution_count": 1,
   "metadata": {},
   "outputs": [],
   "source": []
  },
  {
   "cell_type": "code",
   "execution_count": 1,
   "metadata": {},
   "outputs": [],
   "source": []
  },
  {
   "cell_type": "code",
   "execution_count": 1,
   "metadata": {},
   "outputs": [],
   "source": []
  },
  {
   "cell_type": "code",
   "execution_count": 1,
   "metadata": {},
   "outputs": [],
   "source": []
  },
  {
   "cell_type": "code",
   "execution_count": 1,
   "metadata": {},
   "outputs": [],
   "source": []
  },
  {
   "cell_type": "code",
   "execution_count": 1,
   "metadata": {},
   "outputs": [],
   "source": []
  },
  {
   "cell_type": "code",
   "execution_count": 1,
   "metadata": {},
   "outputs": [],
   "source": []
  },
  {
   "cell_type": "code",
   "execution_count": null,
   "metadata": {},
   "outputs": [],
   "source": []
  }
 ],
 "metadata": {
  "kernelspec": {
   "display_name": "Python 2",
   "language": "python",
   "name": "python2"
  },
  "language_info": {
   "codemirror_mode": {
    "name": "ipython",
    "version": 2
   },
   "file_extension": ".py",
   "mimetype": "text/x-python",
   "name": "python",
   "nbconvert_exporter": "python",
   "pygments_lexer": "ipython2",
   "version": "2.7.6"
  }
 },
 "nbformat": 4,
 "nbformat_minor": 0
}
