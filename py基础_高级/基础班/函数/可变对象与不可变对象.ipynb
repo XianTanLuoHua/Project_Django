{
 "cells": [
  {
   "cell_type": "code",
   "execution_count": 1,
   "metadata": {
    "collapsed": true
   },
   "outputs": [],
   "source": [
    "可变类型 list set dict\n",
    "    在修改数据时 对象本身的不会发生修改 而是里面元素值得引用发生变化\n",
    "不可变类型 str int folat tuple bool\n",
    "    修改数据时 不可变对象重新开辟一块新的内存空间  不影响原来的数据\n"
   ]
  },
  {
   "cell_type": "code",
   "execution_count": 3,
   "metadata": {},
   "outputs": [
    {
     "name": "stdout",
     "output_type": "stream",
     "text": [
      "外部的id是 97686152\n97686152\n97686152\n[234, 2, 3, 4, 5, 6]\n[234, 2, 3, 4, 5, 6]\n"
     ]
    }
   ],
   "source": [
    "可变类型再函数内部的修改\n",
    "\n",
    "c = [1,2,3,4,5,6]\n",
    "def c_list(lst):\n",
    "    print(id(lst))\n",
    "    c[0]=234\n",
    "    print(id(lst))\n",
    "    print(lst)\n",
    "    \n",
    "print('外部的id是',id(c))\n",
    "\n",
    "c_list(c)\n",
    "print(c)"
   ]
  },
  {
   "cell_type": "code",
   "execution_count": 1,
   "metadata": {},
   "outputs": [],
   "source": []
  },
  {
   "cell_type": "code",
   "execution_count": 1,
   "metadata": {},
   "outputs": [],
   "source": []
  },
  {
   "cell_type": "code",
   "execution_count": 1,
   "metadata": {},
   "outputs": [],
   "source": []
  },
  {
   "cell_type": "code",
   "execution_count": null,
   "metadata": {},
   "outputs": [],
   "source": []
  }
 ],
 "metadata": {
  "kernelspec": {
   "display_name": "Python 2",
   "language": "python",
   "name": "python2"
  },
  "language_info": {
   "codemirror_mode": {
    "name": "ipython",
    "version": 2
   },
   "file_extension": ".py",
   "mimetype": "text/x-python",
   "name": "python",
   "nbconvert_exporter": "python",
   "pygments_lexer": "ipython2",
   "version": "2.7.6"
  }
 },
 "nbformat": 4,
 "nbformat_minor": 0
}
