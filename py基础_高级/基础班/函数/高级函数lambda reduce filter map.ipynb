{
 "cells": [
  {
   "cell_type": "code",
   "execution_count": 4,
   "metadata": {
    "collapsed": true
   },
   "outputs": [
    {
     "name": "stdout",
     "output_type": "stream",
     "text": [
      "say hello\n[2, 4, 6, 6, 8, 10]\n"
     ]
    }
   ],
   "source": [
    "''\n",
    "'''\n",
    "        lambda 匿名函数\n",
    "            lambda 形参1,形参2 : 表达式 \n",
    "            不能使用if while for \n",
    "'''\n",
    "a = lambda :print('say hello')   #不反悔结果的lambda\n",
    "a()\n",
    "\n",
    "\n",
    "\n",
    "a = [1, 2, 3, 4, 5, 6, 6, 7, 8, 9, 10]  # 把所有的偶数都抽出啦\n",
    "b = filter(lambda x: x % 2 == 0, a)\n",
    "print(list(b))\n",
    "\n",
    "#三目运算\n"
   ]
  },
  {
   "cell_type": "code",
   "execution_count": 9,
   "metadata": {},
   "outputs": [
    {
     "name": "stdout",
     "output_type": "stream",
     "text": [
      "[False, True, False, True, False, True, True, False, True, False, True]\n[1, 4, 9, 16, 25, 36, 36, 49, 64, 81, 100]\n<class 'map'>\n"
     ]
    }
   ],
   "source": [
    "''\n",
    "'''\n",
    "        map(func,sep) 函数会根据提供的函数对指定的序列做出映射 返回一个map类\n",
    "'''\n",
    "a = [1, 2, 3, 4, 5, 6, 6, 7, 8, 9, 10]\n",
    "b = map(lambda x: x % 2 == 0, a)  # 这就是进行判断了 如果能整除2 则为True\n",
    "c = map(lambda x:x**2,a)  #在原有的容器中每个元素进行**2 返回一个新的容器\n",
    "print(list(b))\n",
    "print(list(c))\n",
    "print(type(c))"
   ]
  },
  {
   "cell_type": "code",
   "execution_count": 16,
   "metadata": {},
   "outputs": [
    {
     "name": "stdout",
     "output_type": "stream",
     "text": [
      "<class 'int'>\n21772800\n"
     ]
    }
   ],
   "source": [
    "''\n",
    "'''\n",
    "        reduce(func,sep)会对参数序列中元素进行累计   返回一个int类型\n",
    "        需要functools模块\n",
    "'''\n",
    "import functools\n",
    "\n",
    "a = [1, 2, 3, 4, 5, 6, 6, 7, 8, 9, 10]\n",
    "s = functools.reduce(lambda x, y: x * y, a) #对容器中的元素进行累乘\n",
    "print(type(s))\n",
    "print(s)\n"
   ]
  },
  {
   "cell_type": "code",
   "execution_count": 19,
   "metadata": {},
   "outputs": [
    {
     "name": "stdout",
     "output_type": "stream",
     "text": [
      "[2, 4, 6, 6, 8, 10]\n"
     ]
    }
   ],
   "source": [
    "''\n",
    "'''\n",
    "        filter(func,sep) 过滤不符合函数内条件的元素 返回一个filter对象\n",
    "'''\n",
    "a = [1, 2, 3, 4, 5, 6, 6, 7, 8, 9, 10]\n",
    "s = filter(lambda x: x % 2 == 0, a)  #过滤掉容器中的奇数\n",
    "print(list(s))\n"
   ]
  },
  {
   "cell_type": "code",
   "execution_count": 11,
   "metadata": {},
   "outputs": [],
   "source": []
  },
  {
   "cell_type": "code",
   "execution_count": 11,
   "metadata": {},
   "outputs": [],
   "source": []
  },
  {
   "cell_type": "code",
   "execution_count": 11,
   "metadata": {},
   "outputs": [],
   "source": []
  },
  {
   "cell_type": "code",
   "execution_count": 11,
   "metadata": {},
   "outputs": [],
   "source": []
  },
  {
   "cell_type": "code",
   "execution_count": 11,
   "metadata": {},
   "outputs": [],
   "source": []
  },
  {
   "cell_type": "code",
   "execution_count": 11,
   "metadata": {},
   "outputs": [],
   "source": []
  },
  {
   "cell_type": "code",
   "execution_count": 11,
   "metadata": {},
   "outputs": [],
   "source": []
  },
  {
   "cell_type": "code",
   "execution_count": 11,
   "metadata": {},
   "outputs": [],
   "source": []
  },
  {
   "cell_type": "code",
   "execution_count": 11,
   "metadata": {},
   "outputs": [],
   "source": []
  },
  {
   "cell_type": "code",
   "execution_count": null,
   "metadata": {},
   "outputs": [],
   "source": []
  }
 ],
 "metadata": {
  "kernelspec": {
   "display_name": "Python 2",
   "language": "python",
   "name": "python2"
  },
  "language_info": {
   "codemirror_mode": {
    "name": "ipython",
    "version": 2
   },
   "file_extension": ".py",
   "mimetype": "text/x-python",
   "name": "python",
   "nbconvert_exporter": "python",
   "pygments_lexer": "ipython2",
   "version": "2.7.6"
  }
 },
 "nbformat": 4,
 "nbformat_minor": 0
}
