{
 "cells": [
  {
   "cell_type": "code",
   "execution_count": 2,
   "metadata": {
    "collapsed": true
   },
   "outputs": [],
   "source": [
    "+= 在原有的内存上进行修改\n",
    "+ 会重新赋值开辟新内存"
   ]
  },
  {
   "cell_type": "code",
   "execution_count": null,
   "metadata": {},
   "outputs": [],
   "source": [
    ">>> a = [1,2]\n",
    ">>> id(a)\n",
    "47952136\n",
    ">>> a += [3,4]\n",
    ">>> id(a)\n",
    "47952136 # 结果前后一致 说明是在原本内存上进行了扩展\n",
    ">>> a\n",
    "[1, 2, 3, 4]\n",
    ">>> b = [1,2]\n",
    ">>> id(b)\n",
    "48147208\n",
    ">>> b = b + [3,4]     #这里已经相当于重新赋值了\n",
    ">>> id(b)\n",
    "48062984 # 不一致\n",
    ">>> b\n",
    "[1, 2, 3, 4]\n"
   ]
  }
 ],
 "metadata": {
  "kernelspec": {
   "display_name": "Python 2",
   "language": "python",
   "name": "python2"
  },
  "language_info": {
   "codemirror_mode": {
    "name": "ipython",
    "version": 2
   },
   "file_extension": ".py",
   "mimetype": "text/x-python",
   "name": "python",
   "nbconvert_exporter": "python",
   "pygments_lexer": "ipython2",
   "version": "2.7.6"
  }
 },
 "nbformat": 4,
 "nbformat_minor": 0
}
