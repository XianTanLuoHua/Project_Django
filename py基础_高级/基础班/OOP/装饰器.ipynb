{
 "cells": [
  {
   "cell_type": "code",
   "execution_count": 5,
   "metadata": {
    "collapsed": true
   },
   "outputs": [
    {
     "name": "stdout",
     "output_type": "stream",
     "text": [
      "被装饰了\nfunc__\n"
     ]
    }
   ],
   "source": [
    "\"\"\"@  装饰器不影响原有函数的功能  添加新的功能\n",
    "    装饰器基于闭包   \n",
    "    使用过程中装饰器会把被声明的函数当作参数传进去\"\"\"\n",
    "def func_1(func):\n",
    "    def func_2():\n",
    "        print('被装饰了')\n",
    "        func()\n",
    "    return func_2\n",
    "    \n",
    "@func_1        # 语法糖自动把func__包装成了   func__ --> func__=func_1(func__)\n",
    "def func__():   #                                     func__ 等于了func_2   传入的参数保存在内存中\n",
    "    print('func__')\n",
    "    \n",
    "func__()\n",
    "    \n",
    "    "
   ]
  },
  {
   "cell_type": "code",
   "execution_count": 1,
   "metadata": {},
   "outputs": [
    {
     "name": "stdout",
     "output_type": "stream",
     "text": [
      "aaa\n你好我是print\n"
     ]
    },
    {
     "data": {
      "text/plain": [
       "\"\\n    1.func1 接收一个实参my_func -->func1(my_func)  返回一个func2 \\n    2.func2()调用 ->print('')+return实参my_func的调用\\n\\n\\n\""
      ]
     },
     "execution_count": 1,
     "metadata": {},
     "output_type": "execute_result"
    }
   ],
   "source": [
    "def func1(func):  #创建一个函数  func 是要被装饰的函数\n",
    "    def func2():\n",
    "        print('aaa')\n",
    "        return func() #返回外部函数接收的  需要被装饰函数的调用\n",
    "    return func2\n",
    "\n",
    "@func1        # 声明下面的函数是用func1 来装饰    \n",
    "                # 被装饰后 my_func()= func2() + return func()  func是形参这是func就是被传进来的my_func\n",
    "               # my_func() == func1(my_func)():\n",
    "#                                     return func2       my_func接收了 没有调用的func2\n",
    "#                                      --> my_func == func2:\n",
    "                                                   #  func2  == #print'aaa'  + return my_func()\n",
    "                                                    #没有调用       aaa         已经调用的my_func                            \n",
    "                #my_func() == \n",
    "def my_func():\n",
    "    print('你好我是print')\n",
    "my_func()\n",
    "\n",
    "'''\n",
    "    1.func1 接收一个实参my_func -->func1(my_func)  返回一个func2 \n",
    "    2.func2()调用 ->print('')+return实参my_func的调用\n",
    "\n",
    "\n",
    "'''\n"
   ]
  },
  {
   "cell_type": "code",
   "execution_count": 2,
   "metadata": {},
   "outputs": [
    {
     "name": "stdout",
     "output_type": "stream",
     "text": [
      "aaa\n你好我是print\n"
     ]
    }
   ],
   "source": [
    "def func1(func):  #创建一个函数    func 是要被装饰的函数\n",
    "    def func2():\n",
    "        print('aaa')\n",
    "        return func() \n",
    "    return func2\n",
    "\n",
    "def my_func():\n",
    "    print('你好我是print')\n",
    "a = func1(my_func)  #func1(my_func) == func2    所以a=func2     \n",
    "a()                 #调用a()就等于调用闭包中的func2()"
   ]
  },
  {
   "cell_type": "code",
   "execution_count": 1,
   "metadata": {},
   "outputs": [
    {
     "name": "stdout",
     "output_type": "stream",
     "text": [
      "11 我正在被装饰\n110 被装饰后的\n"
     ]
    }
   ],
   "source": [
    "''\n",
    "'''\n",
    "        被装饰的函数带参数\n",
    "                使用装饰器给出两个数字 再原有的基础上每个数字x10 且并求出两个数字的和\n",
    "'''\n",
    "def func1(func_sum):\n",
    "    def func2(x,y):\n",
    "        print(x+y,'我正在被装饰') #执行到这一步的时候还没有进行加5\n",
    "        x*=10\n",
    "        y*=10\n",
    "        return func_sum(x,y)\n",
    "    return func2   \n",
    "\n",
    "\n",
    "@func1 \n",
    "def sum_xy(a,b):\n",
    "    print(a+b,'被装饰后的')\n",
    "    \n",
    "\n",
    "    \n",
    "sum_xy(5,6) # 由此可见调用之后并没首先运行下面的那一句  而是再装饰函数内部运行\n"
   ]
  },
  {
   "cell_type": "code",
   "execution_count": 2,
   "metadata": {},
   "outputs": [
    {
     "name": "stdout",
     "output_type": "stream",
     "text": [
      "女人要生孩子\n女人\n"
     ]
    },
    {
     "data": {
      "text/plain": [
       "\"\\n1.man_and_woman(sex = 'man') --> return func2 此时 man_and_woman(sex = 'man') == func2\\n2.func2运行就是 man_and_woman(sex = 'man')(man_and_woman) 此时又return一个func3    man_and_woman(sex = 'man')(man_and_woman)==func3\\n3.func3运行就是man_and_woman(sex = 'man')(man_and_woman)()此时进行条件判断并打印 继续return func_func()调用传进来的实参\\n\\n\""
      ]
     },
     "execution_count": 2,
     "metadata": {},
     "output_type": "execute_result"
    }
   ],
   "source": [
    "''\n",
    "'''\n",
    "        装饰器函数在声明时传入函数\n",
    "'''\n",
    "def man_and_woman(sex):\n",
    "    def func2(func_func):\n",
    "        def func3():\n",
    "            \n",
    "            if sex == 'man':\n",
    "                print('男人要工作')\n",
    "            if sex == 'woman':\n",
    "                print('女人要生孩子')\n",
    "            return func_func()\n",
    "        return func3\n",
    "    return func2\n",
    "@man_and_woman(sex = 'man')\n",
    "def man():\n",
    "    print('男人')\n",
    "    \n",
    "@man_and_woman(sex = 'woman')\n",
    "def woman():\n",
    "    print('女人')\n",
    "woman()\n",
    "\n",
    "\n",
    "'''\n",
    "1.man_and_woman(sex = 'man') --> return func2 此时 man_and_woman(sex = 'man') == func2\n",
    "2.func2运行就是 man_and_woman(sex = 'man')(man_and_woman) 此时又return一个func3    man_and_woman(sex = 'man')(man_and_woman)==func3\n",
    "3.func3运行就是man_and_woman(sex = 'man')(man_and_woman)()此时进行条件判断并打印 继续return func_func()调用传进来的实参\n",
    "\n",
    "'''"
   ]
  },
  {
   "cell_type": "code",
   "execution_count": 1,
   "metadata": {},
   "outputs": [],
   "source": [
    ""
   ]
  },
  {
   "cell_type": "code",
   "execution_count": 1,
   "metadata": {},
   "outputs": [],
   "source": [
    ""
   ]
  },
  {
   "cell_type": "code",
   "execution_count": 7,
   "metadata": {},
   "outputs": [],
   "source": []
  },
  {
   "cell_type": "code",
   "execution_count": 7,
   "metadata": {},
   "outputs": [],
   "source": []
  },
  {
   "cell_type": "code",
   "execution_count": 7,
   "metadata": {},
   "outputs": [],
   "source": []
  },
  {
   "cell_type": "code",
   "execution_count": 7,
   "metadata": {},
   "outputs": [],
   "source": []
  },
  {
   "cell_type": "code",
   "execution_count": 7,
   "metadata": {},
   "outputs": [],
   "source": []
  },
  {
   "cell_type": "code",
   "execution_count": 7,
   "metadata": {},
   "outputs": [],
   "source": []
  },
  {
   "cell_type": "code",
   "execution_count": 7,
   "metadata": {},
   "outputs": [],
   "source": []
  },
  {
   "cell_type": "code",
   "execution_count": 7,
   "metadata": {},
   "outputs": [],
   "source": []
  },
  {
   "cell_type": "code",
   "execution_count": 7,
   "metadata": {},
   "outputs": [],
   "source": []
  },
  {
   "cell_type": "code",
   "execution_count": 7,
   "metadata": {},
   "outputs": [],
   "source": []
  },
  {
   "cell_type": "code",
   "execution_count": 7,
   "metadata": {},
   "outputs": [],
   "source": []
  },
  {
   "cell_type": "code",
   "execution_count": 7,
   "metadata": {},
   "outputs": [],
   "source": []
  },
  {
   "cell_type": "code",
   "execution_count": 7,
   "metadata": {},
   "outputs": [],
   "source": []
  },
  {
   "cell_type": "code",
   "execution_count": 7,
   "metadata": {},
   "outputs": [],
   "source": []
  },
  {
   "cell_type": "code",
   "execution_count": 7,
   "metadata": {},
   "outputs": [],
   "source": []
  },
  {
   "cell_type": "code",
   "execution_count": null,
   "metadata": {},
   "outputs": [],
   "source": []
  }
 ],
 "metadata": {
  "kernelspec": {
   "display_name": "Python 2",
   "language": "python",
   "name": "python2"
  },
  "language_info": {
   "codemirror_mode": {
    "name": "ipython",
    "version": 2
   },
   "file_extension": ".py",
   "mimetype": "text/x-python",
   "name": "python",
   "nbconvert_exporter": "python",
   "pygments_lexer": "ipython2",
   "version": "2.7.6"
  }
 },
 "nbformat": 4,
 "nbformat_minor": 0
}
