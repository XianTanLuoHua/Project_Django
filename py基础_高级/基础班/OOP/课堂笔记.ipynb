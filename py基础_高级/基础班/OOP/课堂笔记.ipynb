{
 "cells": [
  {
   "cell_type": "code",
   "execution_count": 1,
   "metadata": {
    "collapsed": true
   },
   "outputs": [],
   "source": [
    "''\n",
    "'''\n",
    "        属性:事物的特征描述信息,用于描述某个特征是什么 静态\n",
    "        行为:事物的能力行动方案,说明事物能做什么      方法\n",
    "        \n",
    "        类:抽象的\n",
    "        类对象:类的实例的表现 \n",
    "'''"
   ]
  },
  {
   "cell_type": "code",
   "execution_count": 1,
   "metadata": {},
   "outputs": [
    {
     "name": "stdout",
     "output_type": "stream",
     "text": [
      "[<class '__main__.A'>, <class 'object'>]\n"
     ]
    }
   ],
   "source": [
    "''\n",
    "'''\n",
    "\n",
    "'''\n",
    "class A():\n",
    "    pass\n",
    "\n",
    "print(A.mro())"
   ]
  },
  {
   "cell_type": "code",
   "execution_count": 1,
   "metadata": {},
   "outputs": [],
   "source": [
    "''\n",
    "'''\n",
    "        创建一个狗的实例对象 并调用狗的方法  oop案例_01 \n",
    "'''"
   ]
  },
  {
   "cell_type": "code",
   "execution_count": 1,
   "metadata": {},
   "outputs": [],
   "source": [
    "''\n",
    "'''\n",
    "        模拟字符串的定义结构  oop案例_02\n",
    "'''"
   ]
  },
  {
   "cell_type": "code",
   "execution_count": 1,
   "metadata": {},
   "outputs": [],
   "source": [
    "''\n",
    "'''\n",
    "        使用__init__定义类的属性  oop案例_03\n",
    "        大部分情况是用来获取一些属性  并初始化\n",
    "        \n",
    "        \n",
    "\n",
    "        __new__ 实例对象时 最先调用的就是__new__  其次是__init__\n",
    "        new实例对象时 new向内存中开辟内存空间  其次是init来给新的内存空间来初始化\n",
    "\n",
    "\n",
    "\n",
    "        __del__当类的空间被释放掉的时候回自动执行的\n",
    "'''"
   ]
  },
  {
   "cell_type": "code",
   "execution_count": 1,
   "metadata": {},
   "outputs": [],
   "source": [
    "''\n",
    "'''\n",
    "        烤地瓜实现  oop案例_04   #鸭子模型\n",
    "'''"
   ]
  },
  {
   "cell_type": "code",
   "execution_count": 1,
   "metadata": {},
   "outputs": [],
   "source": [
    "''\n",
    "'''\n",
    "        类的复合,一个类传入另一个类中  oop案例_05   #鸭子模型\n",
    "        类的当中包含了另一个类的属性\n",
    "'''"
   ]
  },
  {
   "cell_type": "code",
   "execution_count": 1,
   "metadata": {},
   "outputs": [
    {
     "data": {
      "text/plain": [
       "'\\n        鸭子模型 做一个买家具的     oop案例_06\\n'"
      ]
     },
     "execution_count": 1,
     "metadata": {},
     "output_type": "execute_result"
    },
    {
     "data": {
      "text/plain": [
       "'\\n        鸭子模型 做一个买家具的     oop案例_06\\n'"
      ]
     },
     "execution_count": 1,
     "metadata": {},
     "output_type": "execute_result"
    }
   ],
   "source": [
    "''\n",
    "'''\n",
    "        鸭子模型 做一个买家具的     oop案例_06\n",
    "'''"
   ]
  },
  {
   "cell_type": "code",
   "execution_count": 2,
   "metadata": {},
   "outputs": [],
   "source": []
  },
  {
   "cell_type": "code",
   "execution_count": 2,
   "metadata": {},
   "outputs": [],
   "source": [
    "''\n",
    "'''\n",
    "     类中定义的私有属性和方法在外部都不可以访问, 只能在内部访问\n",
    "     通过定义的接口方法 来间接访问 私有访问\n",
    "        私有属性会根据应用场景来提供相应的读取和写入方法 name_mangling技术\n",
    "        存取器方法 set get  来获取 和设置私有变量                            oop案例_07\n",
    "'''"
   ]
  },
  {
   "cell_type": "code",
   "execution_count": 2,
   "metadata": {},
   "outputs": [],
   "source": [
    "''\n",
    "'''\n",
    "        子类继承父类的__init__方法 并添加自己的属性\n",
    "'''"
   ]
  },
  {
   "cell_type": "code",
   "execution_count": 2,
   "metadata": {},
   "outputs": [],
   "source": [
    "''\n",
    "'''\n",
    "        子类重写父类中的方法 \n",
    "        子类想拥有父类的方法名 但是不需要父类方法的功能                  oop案例_08\n",
    "        \n",
    "        子类想拥有父类的方法名字 但是想在父类方法的基础上添加一些自己的功能  oop案例_09\n",
    "        方法 :\n",
    "            basesClass.func_name(self,参数1,参数2.....)  需要手动传self\n",
    "            super().func_name()                         建议用这种方法 不需要手动传self最简单\n",
    "            super(子类名,self).funcname(参数1,参数2...)   太麻烦了\n",
    "                                                               \n",
    "'''"
   ]
  },
  {
   "cell_type": "code",
   "execution_count": 2,
   "metadata": {},
   "outputs": [],
   "source": [
    "''\n",
    "'''\n",
    "        多层继承的__init__是一级一级往上寻找 纵向继承 一条线下来的\n",
    "        \n",
    "        \n",
    "        \n",
    "        多继承__init__是按照MRO的顺序往上找 菱形继承有一些问题, 参数传递 解析             查看oop案例_10\n",
    "                super 和父类没有关系,是获取MRO列表中的第一个类,往往都是父类,但是super不代表父类\n",
    "        \n",
    "        \n",
    "        多继承中调用父类方法 使用super().func_name 默认使用mro顺序中第一个父类中的方法\n",
    "        多继承中调用指定父类的方法直接使用 basesclass_name.func_name,               oop案例_11\n",
    "        \n",
    "        \n",
    "'''"
   ]
  },
  {
   "cell_type": "code",
   "execution_count": 2,
   "metadata": {},
   "outputs": [],
   "source": [
    "''\n",
    "'''\n",
    "        类属性:                                                              oop案例_11\n",
    "            存在类的内部的'全局变量'                                            oop案例_11\n",
    "            用来实现数据共享,访问方法 __class__.name     className.name 两种方式\n",
    "            类中也有公有和私有之分\n",
    "            如果类属性和对象属性重名    对象调用属性时则优先使用对象属性,谁离得近用谁\n",
    "            \n",
    "        @classmethod    \n",
    "        类方法:由类对象来使用的方法                                              oop案例_12\n",
    "            需要修饰符\n",
    "            在类方法中可以使用cls.name  __class__name className.name 三种方式来访问\n",
    "            修饰过后的类方法  类和对象都可以自由调用\n",
    "'''"
   ]
  },
  {
   "cell_type": "code",
   "execution_count": 2,
   "metadata": {},
   "outputs": [],
   "source": [
    "''\n",
    "'''\n",
    "        静态方法 @staticmethod            \n",
    "        一般懒得实例化对象的时候才会用这种\n",
    "        使用静态方法来实现一个工具类 不用实例化就可以用的                 oop案例_13\n",
    "'''"
   ]
  },
  {
   "cell_type": "code",
   "execution_count": 2,
   "metadata": {},
   "outputs": [],
   "source": [
    ""
   ]
  },
  {
   "cell_type": "code",
   "execution_count": 3,
   "metadata": {},
   "outputs": [],
   "source": [
    ""
   ]
  },
  {
   "cell_type": "code",
   "execution_count": 2,
   "metadata": {},
   "outputs": [],
   "source": [
    "''\n",
    "'''\n",
    "        多态:   \n",
    "            不是语法  是一种思想\n",
    "            同一个对象在不同情况下有不同的状态出现\n",
    "            一种调用方式  可以有不同的调用结果\n",
    "        \n",
    "        \n",
    "        鸭子模型:\n",
    "            如果一只鸟,长得像鸭子,走路像鸭子,叫声像鸭子,那么这只鸟就是一直鸭子\n",
    "'''"
   ]
  },
  {
   "cell_type": "code",
   "execution_count": 2,
   "metadata": {},
   "outputs": [],
   "source": []
  },
  {
   "cell_type": "code",
   "execution_count": 2,
   "metadata": {},
   "outputs": [],
   "source": []
  },
  {
   "cell_type": "code",
   "execution_count": 2,
   "metadata": {},
   "outputs": [],
   "source": []
  },
  {
   "cell_type": "code",
   "execution_count": 2,
   "metadata": {},
   "outputs": [],
   "source": []
  },
  {
   "cell_type": "code",
   "execution_count": 2,
   "metadata": {},
   "outputs": [],
   "source": []
  },
  {
   "cell_type": "code",
   "execution_count": 2,
   "metadata": {},
   "outputs": [],
   "source": []
  },
  {
   "cell_type": "code",
   "execution_count": 2,
   "metadata": {},
   "outputs": [],
   "source": []
  },
  {
   "cell_type": "code",
   "execution_count": 2,
   "metadata": {},
   "outputs": [],
   "source": []
  },
  {
   "cell_type": "code",
   "execution_count": null,
   "metadata": {},
   "outputs": [],
   "source": []
  }
 ],
 "metadata": {
  "kernelspec": {
   "display_name": "Python 2",
   "language": "python",
   "name": "python2"
  },
  "language_info": {
   "codemirror_mode": {
    "name": "ipython",
    "version": 2
   },
   "file_extension": ".py",
   "mimetype": "text/x-python",
   "name": "python",
   "nbconvert_exporter": "python",
   "pygments_lexer": "ipython2",
   "version": "2.7.6"
  }
 },
 "nbformat": 4,
 "nbformat_minor": 0
}
