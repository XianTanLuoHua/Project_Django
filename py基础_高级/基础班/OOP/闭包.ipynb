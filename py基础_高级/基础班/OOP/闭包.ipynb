{
 "cells": [
  {
   "cell_type": "code",
   "execution_count": 2,
   "metadata": {
    "collapsed": true
   },
   "outputs": [],
   "source": [
    "函数内的东西只有在函数内部才可以存在\n",
    "def func():\n",
    "    def func1():\n",
    "        pass\n",
    "    return func1 #不带括号是返回了函数的集装箱\n",
    "    return func1() #带括号表示返回 已经调用的函数\n",
    "    "
   ]
  },
  {
   "cell_type": "code",
   "execution_count": 5,
   "metadata": {},
   "outputs": [
    {
     "name": "stdout",
     "output_type": "stream",
     "text": [
      "1\n"
     ]
    }
   ],
   "source": [
    "def func1():\n",
    "    a = 1\n",
    "    def func2():\n",
    "        a = 2\n",
    "        return a\n",
    "    return func2()\n",
    "c = func1() #这里c就变成了func1的代码中的 func2\n",
    "d = c  # 这是c变成了func2 执行c会执行func2中的return a语句  a=2所以打印d的时候输出2\n",
    "print(d)"
   ]
  },
  {
   "cell_type": "code",
   "execution_count": 6,
   "metadata": {},
   "outputs": [],
   "source": [
    "def func1():\n",
    "    a = 1    #a是func中一员\n",
    "    def func2():\n",
    "        return a      #闭包内的内部函数把上层函数内的变量占有了,完成了数据的封装\n",
    "    return func2()\n",
    "c = func1() #这里c就变成了func1的代码中的 func2 此时func1相当于废弃了\n",
    "d = c  # d变成了func2中的return a \n",
    "print(d)"
   ]
  },
  {
   "cell_type": "code",
   "execution_count": 11,
   "metadata": {},
   "outputs": [
    {
     "name": "stdout",
     "output_type": "stream",
     "text": [
      "我是func1 [1, 2, 3, 4, 5, 6]\nfunc2 [2, 2, 3, 4, 5, 6]\nfunc2 [3, 2, 3, 4, 5, 6]\nfunc2 [4, 2, 3, 4, 5, 6]\n"
     ]
    }
   ],
   "source": [
    "my_list = [1,2,3,4,5,6]\n",
    "def func1(obj):\n",
    "    print('我是func1',obj)\n",
    "    def func2():\n",
    "        obj[0]+=1\n",
    "        print('func2',obj)\n",
    "    return func2\n",
    "var = func1(my_list)\n",
    "var()\n",
    "var()\n",
    "var()"
   ]
  },
  {
   "cell_type": "code",
   "execution_count": 6,
   "metadata": {},
   "outputs": [],
   "source": []
  },
  {
   "cell_type": "code",
   "execution_count": null,
   "metadata": {},
   "outputs": [],
   "source": []
  }
 ],
 "metadata": {
  "kernelspec": {
   "display_name": "Python 2",
   "language": "python",
   "name": "python2"
  },
  "language_info": {
   "codemirror_mode": {
    "name": "ipython",
    "version": 2
   },
   "file_extension": ".py",
   "mimetype": "text/x-python",
   "name": "python",
   "nbconvert_exporter": "python",
   "pygments_lexer": "ipython2",
   "version": "2.7.6"
  }
 },
 "nbformat": 4,
 "nbformat_minor": 0
}
