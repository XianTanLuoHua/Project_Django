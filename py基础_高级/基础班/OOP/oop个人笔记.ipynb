{
 "cells": [
  {
   "cell_type": "code",
   "execution_count": 1,
   "metadata": {
    "collapsed": false
   },
   "outputs": [
    {
     "name": "stdout",
     "output_type": "stream",
     "text": [
      "{'__module__': '__main__', 'name': 'xiaoxiao', '__dict__': <attribute '__dict__' of 'a' objects>, '__weakref__': <attribute '__weakref__' of 'a' objects>, '__doc__': None}\n{}\n99744648 99744648\n********************\n{'name': 'haha'}\n99744648 102146720\n"
     ]
    }
   ],
   "source": [
    "'''\n",
    "        class_name.__dict__  类成员检查\n",
    "'''\n",
    "\n",
    "class a():\n",
    "    name = 'xiaoxiao'\n",
    "b = a()\n",
    "print(a.__dict__)\n",
    "print(b.__dict__)  #为空  实例只是指向了类的内存地址 本身没保存任何东西\n",
    "print(id(a.name),id(b.name))\n",
    "print('*'*20)\n",
    "\n",
    "b.name='haha'\n",
    "print(b.__dict__)  #上方修改了实例中的变量 py开辟了一块新的内存地址\n",
    "print(id(a.name),id(b.name))  #name对象的地址都变了"
   ]
  },
  {
   "cell_type": "code",
   "execution_count": 12,
   "metadata": {},
   "outputs": [
    {
     "name": "stdout",
     "output_type": "stream",
     "text": [
      "python\n********************\n19\n19\n1688593456\n1688593456\n19\n1688593472\n1688593456\n********************\nNone\n我在写作业\n"
     ]
    }
   ],
   "source": [
    "'''\n",
    "        类 和对象 中属性和成员分析\n",
    "'''\n",
    "\n",
    "\n",
    "\n",
    "class PythonStudint():\n",
    "    name = None\n",
    "    age = 19\n",
    "    course = 'python'\n",
    "    def do_home_work(self):\n",
    "        print('我在写作业')\n",
    "        return None\n",
    "\n",
    "\n",
    "xiaoming = PythonStudint()  #创建一个对象 使对象引用类的内存地址\n",
    "print(xiaoming.course)\n",
    "print(('*' * 20))\n",
    "\n",
    "print(PythonStudint.age)  #通过类调用属性\n",
    "print(xiaoming.age)  #通过类实例调用属性\n",
    "print(id(xiaoming.age))  #打印内存地址发现引用相同\n",
    "print(id(PythonStudint.age))\n",
    "xiaoming.age = 20  # 修改类实例属性 验证是否为同一对象\n",
    "print(PythonStudint.age)\n",
    "print(id(xiaoming.age))  #打印内存地址 类实例地址已经改变\n",
    "print(id(PythonStudint.age))  #  修改类实例属性  类不会被改变\n",
    "print(('*' * 20))\n",
    "\n",
    "print(xiaoming.name)\n",
    "\n",
    "xiaoming.do_home_work()\n"
   ]
  },
  {
   "cell_type": "code",
   "execution_count": 57,
   "metadata": {},
   "outputs": [
    {
     "name": "stdout",
     "output_type": "stream",
     "text": [
      "类属性\n我是一个绑定类方法\n********************\n类属性\n实例属性\n*********************************\n"
     ]
    }
   ],
   "source": [
    "'''\n",
    "        关于self  非关键字只是用来介绍类实例的一个普通参数 理论上可以用任何一个变量名代替\n",
    "        !!!方法中有self的参数为非绑定类的方法用类实例访问,     没有sefl的为绑定类方法绑定到类只能由类来调用\n",
    "    self 在对象实例中代表对象本身,如果通过对象调用类中的方法,对象本身会自动传入第一个参数中(self)\n",
    "                            如果通过类调用有self的方法需要手动传入一个参数来替换self\n",
    "        \n",
    "'''\n",
    "class A():\n",
    "    name = '类属性'\n",
    "    def say(self):\n",
    "        self.name = '实例属性'\n",
    "        print(self.name)\n",
    "    def sayagein():\n",
    "        print('我是一个绑定类方法')\n",
    "    \n",
    "\n",
    "print(A.name)\n",
    "# A.say()  #这一句没有传入参数 就会报错 缺少1个必需的位置参数:'self'\n",
    "# A.say(A) #这里传入A可以运行但是自己传入自己会修改自己 鸭子模型\n",
    "A.sayagein() #绑定类的方法只能通过类访问\n",
    "\n",
    "print('*'*20)\n",
    "\n",
    "a = A()\n",
    "print(a.name)  \n",
    "a.say()  # a会自动当作self传入类方法中\n",
    "#a.sayagein()  # 用实例调用绑定方法会报类型错误 'sayagein()接受0个位置参数，但是给出了1个'\n",
    "\n",
    "print('*********************************')\n",
    "\n"
   ]
  },
  {
   "cell_type": "code",
   "execution_count": 68,
   "metadata": {},
   "outputs": [
    {
     "name": "stdout",
     "output_type": "stream",
     "text": [
      "方法中访问类属性\n方法中访问类属性\n绑定方法\n********************\n方法中访问类属性\n方法中访问类属性\n非绑定方法\n"
     ]
    }
   ],
   "source": [
    "'''\n",
    "        __class__.name  在类的方法中访问类的属性  \n",
    "        类.name 也可以\n",
    "'''\n",
    "\n",
    "class B():\n",
    "    name = '方法中访问类属性'\n",
    "    def per():\n",
    "        print(B.name)\n",
    "        print(__class__.name)        \n",
    "        print('绑定方法')\n",
    "    def per1(self):\n",
    "        print(B.name)\n",
    "        print(__class__.name)\n",
    "        print('非绑定方法')\n",
    "        \n",
    "        \n",
    "B.per()\n",
    "print('*'*20)\n",
    "\n",
    "b = B()\n",
    "b.per1()"
   ]
  },
  {
   "cell_type": "code",
   "execution_count": 87,
   "metadata": {},
   "outputs": [
    {
     "name": "stdout",
     "output_type": "stream",
     "text": [
      "我是C\n对象本身\n对象本身\n********************\n对象本身\n我是C\n********************\n我是D\n"
     ]
    }
   ],
   "source": [
    "'''\n",
    "        __init__的使用     以及鸭子模型\n",
    "'''\n",
    "\n",
    "class C():\n",
    "    name = '我是C'\n",
    "    def __init__(self):\n",
    "        self.name = '对象本身'\n",
    "    def say(self):\n",
    "        print(self.name)\n",
    "        \n",
    "class D():\n",
    "    name = '我是D'\n",
    "\n",
    "\n",
    "\n",
    "\n",
    "c = C()\n",
    "print(C.name)\n",
    "c.say()\n",
    "print(c.name)\n",
    "\n",
    "#C.say()  say() missing 1 required positional argument: 'self'\n",
    "print('*'*20)\n",
    "\n",
    "'''\n",
    "鸭子模型\n",
    "'''\n",
    "C.say(c) #此时self 被c替换 运行代码就是c.name  对象本身\n",
    "C.say(C) #此时self 被大C替换 运行代码就是c.name  我是C\n",
    "print('*'*20)\n",
    "\n",
    "\n",
    "C.say(D)  #  此时鸭子模型   传入D  D替换了C中say中的self   变成了D.self\n"
   ]
  },
  {
   "cell_type": "code",
   "execution_count": 3,
   "metadata": {},
   "outputs": [
    {
     "name": "stdout",
     "output_type": "stream",
     "text": [
      "我今年18\n我今年18\n********************\n{'__module__': '__main__', '_A__age': 18, 'say': <function A.say at 0x059333D8>, 'say1': <function A.say1 at 0x05933348>, '__dict__': <attribute '__dict__' of 'A' objects>, '__weakref__': <attribute '__weakref__' of 'A' objects>, '__doc__': None}\n18\n"
     ]
    }
   ],
   "source": [
    "'''\n",
    "        私有变量  最高级别封装  只能在当前类或对象中访问\n",
    "        在成员前面加两个下划线__即可\n",
    "'''\n",
    "class A():\n",
    "    __age = 18\n",
    "    def say(self):\n",
    "        print('我今年{0}'.format(A.__age))   #这里内部调用\n",
    "    def say1():\n",
    "        print(('我今年{0}'.format(A.__age)))   # 内部调用\n",
    "        \n",
    "        \n",
    "A.say1() #这里用类调用方法  方法调用私有变量\n",
    "A.say(A) #这里把A 替换掉self 调用方法  方法又在内部调用私有变量\n",
    "print('*'*20)\n",
    "\n",
    "print(A.__dict__)  #这里可以看到私有变量通过namemangling 改变了私有变量的名字\n",
    "#print(A.__age) #type object 'A' has no attribute '__age'  \n",
    "print(A._A__age)  # 通过namemangling的规则命名后  这样才可以调用\n",
    "\n"
   ]
  },
  {
   "cell_type": "code",
   "execution_count": 57,
   "metadata": {},
   "outputs": [],
   "source": [
    "'''\n",
    "        公有变量\n",
    "'''\n",
    "\n",
    "class A():\n",
    "    name = '小明' #小明就是公开变量可以在内部或者外部随便访问"
   ]
  },
  {
   "cell_type": "code",
   "execution_count": null,
   "metadata": {},
   "outputs": [],
   "source": [
    "'''\n",
    "        受保护的变量可以在当前类或者子类中访问 外部不可以\n",
    "        在成员前面加一个下划线\n",
    "'''"
   ]
  },
  {
   "cell_type": "code",
   "execution_count": 20,
   "metadata": {},
   "outputs": [
    {
     "name": "stdout",
     "output_type": "stream",
     "text": [
      "sleep\n********************\n{'__module__': '__main__', 'name': '我是A', '__dict__': <attribute '__dict__' of 'A' objects>, '__weakref__': <attribute '__weakref__' of 'A' objects>, '__doc__': None}\n{'__module__': '__main__', 'name': '我是B', '__doc__': None}\n********************\n{'__module__': '__main__', 'name': '我是A', '__dict__': <attribute '__dict__' of 'A' objects>, '__weakref__': <attribute '__weakref__' of 'A' objects>, '__doc__': None}\n{'__module__': '__main__', 'name': '我是B', '__doc__': None, 'age': 19}\n********************\n我是B\n"
     ]
    }
   ],
   "source": [
    "'''\n",
    "            继承\n",
    "        特征:\n",
    "        所有的类都是object的子类  子类一旦继承父类 就可以使用父类除私有成员外所有的内容\n",
    "        子类继承父类后  父类并没有完全赋值给子类  而是通过引用关系调用\n",
    "        子类可以定义独有的成员和方法\n",
    "        \n",
    "'''\n",
    "\n",
    "\n",
    "\n",
    "'''\n",
    "        单继承\n",
    "        继承让一个新类 获得另一个类的所有的成员和方法\n",
    "        逻辑清晰语法简单隐患少\n",
    "        但不能无限扩展只能在当前唯一的继承链中扩展\n",
    "'''\n",
    "class person():\n",
    "    name = 'None'\n",
    "    def sleep(self):\n",
    "        print('sleep')\n",
    "class teacher(person):\n",
    "    pass\n",
    "xiaoming = teacher()\n",
    "xiaoming.sleep() # 子类调用父类方法\n",
    "print('*'*20)\n",
    "\n",
    "\n",
    "'''\n",
    "        单继承扩充子类方法和成员属性\n",
    "        如果有相同的名字的成员或函数 则优先使用自己的\n",
    "        如果自己没有则按照MRO顺序一级一级向上找\n",
    "'''\n",
    "class A():\n",
    "    name = '我是A'\n",
    "    pass\n",
    "class B(A):\n",
    "    name = '我是B'\n",
    "    pass\n",
    "print(A.__dict__)\n",
    "print(B.__dict__)\n",
    "print('*'*20)\n",
    "B.age = 19\n",
    "print(A.__dict__)\n",
    "print(B.__dict__)  #下方代码中可以看到子类中已经添加了一个成员\n",
    "print('*'*20)\n",
    "print(B.name) # 可以看到B优先使用自己的"
   ]
  },
  {
   "cell_type": "code",
   "execution_count": 2,
   "metadata": {},
   "outputs": [
    {
     "name": "stdout",
     "output_type": "stream",
     "text": [
      "********************\nNo name\n狗蛋\nsleeping\ndo home work\ndo home work\n"
     ]
    }
   ],
   "source": [
    "'''\n",
    "        子类 在类中调用父类的方法   super.xxxxxx      父类名.父类成员\n",
    "'''\n",
    "class A():\n",
    "    name = 'No name'\n",
    "    __age = 18 #创建一个私有成员\n",
    "    _minName = '狗蛋' #创建一个受保护的成员属性  子类可以调用但是外部不能调用\n",
    "    def sleep(self):\n",
    "        print('sleeping')\n",
    "    def do_homework(self):\n",
    "        print('do home work')\n",
    "class B(A):\n",
    "    def message(self):\n",
    "        print(super().name) \n",
    "        print(A._minName)\n",
    "        super().sleep() # 使用 super.父类成员 扩充子类\n",
    "        self.do_homework() \n",
    "        A.do_homework(self)  #使用 父类名.父类成员 来扩充子类  使用self 填充进去\n",
    "\n",
    "print('*'*20)\n",
    "b = B()\n",
    "b.message()"
   ]
  },
  {
   "cell_type": "code",
   "execution_count": null,
   "metadata": {
    "collapsed": false
   },
   "outputs": [
    {
     "name": "stdout",
     "output_type": "stream",
     "text": [
      "<class 'type'>\nHelp on class super in module builtins:\n\nclass super(object)\n |  super() -> same as super(__class__, <first argument>)\n |  super(type) -> unbound super object\n |  super(type, obj) -> bound super object; requires isinstance(obj, type)\n |  super(type, type2) -> bound super object; requires issubclass(type2, type)\n |  Typical use to call a cooperative superclass method:\n |  class C(B):\n |      def meth(self, arg):\n |          super().meth(arg)\n |  This works for class methods too:\n |  class C(B):\n |      @classmethod\n |      def cmeth(cls, arg):\n |          super().cmeth(arg)\n |  \n |  Methods defined here:\n |  \n |  __get__(self, instance, owner, /)\n |      Return an attribute of instance, which is of type owner.\n |  \n |  __getattribute__(self, name, /)\n |      Return getattr(self, name).\n |  \n |  __init__(self, /, *args, **kwargs)\n |      Initialize self.  See help(type(self)) for accurate signature.\n |  \n |  __new__(*args, **kwargs) from builtins.type\n |      Create and return a new object.  See help(type) for accurate signature.\n |  \n |  __repr__(self, /)\n |      Return repr(self).\n |  \n |  ----------------------------------------------------------------------\n |  Data descriptors defined here:\n |  \n |  __self__\n |      the instance invoking super(); may be None\n |  \n |  __self_class__\n |      the type of the instance invoking super(); may be None\n |  \n |  __thisclass__\n |      the class invoking super()\n\n"
     ]
    }
   ],
   "source": [
    "'''\n",
    "        super 不是一个关键字  而是一个类\n",
    "'''\n",
    "\n",
    "\n",
    "print(type(super))\n",
    "help(super)\n",
    "\n",
    "'''\n",
    "        super 是获取MRO列表中的第一个类   往往都是父类\n",
    "'''\n",
    "\n",
    "'''\n",
    "        super 和父类没有关系 但是可以通过super 可以查找到父类\n",
    "'''\n"
   ]
  },
  {
   "cell_type": "code",
   "execution_count": 3,
   "metadata": {},
   "outputs": [
    {
     "name": "stdout",
     "output_type": "stream",
     "text": [
      "********************\n[<class '__main__.C'>, <class '__main__.B'>, <class '__main__.A'>, <class 'object'>]\n"
     ]
    }
   ],
   "source": [
    "'''\n",
    "        MRO  用来保存所有继承顺序的一个列表 查看类的继承关系\n",
    "        \n",
    "'''\n",
    "\n",
    "class A():\n",
    "    pass\n",
    "class B(A):\n",
    "    pass\n",
    "class C(B):\n",
    "    pass\n",
    "\n",
    "print('*'*20)\n",
    "\n",
    "print(C.mro())"
   ]
  },
  {
   "cell_type": "code",
   "execution_count": 31,
   "metadata": {},
   "outputs": [],
   "source": []
  },
  {
   "cell_type": "code",
   "execution_count": 5,
   "metadata": {},
   "outputs": [
    {
     "name": "stdout",
     "output_type": "stream",
     "text": [
      "我是A的构造函数我是A\n我是B的构造函数 自动调用\n我是A的构造函数我是C\n"
     ]
    }
   ],
   "source": [
    "'''\n",
    "        构造函数__init__(self) #每次实例化的时候 自动调用的函数\n",
    "        如果类中没有构造函数 则按照MRO排序向上查找\n",
    "        如果子类没有定义 父类的构造函数带参数 则子类的对象要按照父类的构造函数的结构构造\n",
    "        如果一个类的父类不是object 在重写init方法中一定要super一下init方法\n",
    "'''\n",
    "class A():\n",
    "    def __init__(self,name):\n",
    "        super(A, self).__init__()\n",
    "        self.name = name\n",
    "        print('我是A的构造函数{}'.format(self.name))\n",
    "class B(A):\n",
    "    def __init__(self):\n",
    "        print('我是B的构造函数 自动调用')\n",
    "class C(A):\n",
    "    pass\n",
    "\n",
    "a = A('我是A')\n",
    "b = B() #没有问题可以调用\n",
    "#c = C() #这里 C继承自A 但是A的构造函数有两个 所以会报错 __init__()缺少1个必需的位置参数:“name”\n",
    "c = C('我是C')"
   ]
  },
  {
   "cell_type": "code",
   "execution_count": 39,
   "metadata": {},
   "outputs": [
    {
     "name": "stdout",
     "output_type": "stream",
     "text": [
      "AAAA\nAAAA\nAAAA\n我是b\n这是b附加的功能\n"
     ]
    }
   ],
   "source": [
    "'''\n",
    "        构造函数 __init__  中调用父类方法\n",
    "'''\n",
    "'''先调用父类的构造函数'''\n",
    "class A():\n",
    "    def __init__(self):\n",
    "        # print(name)\n",
    "        print('AAAA')\n",
    "class B(A):\n",
    "    def __init__(self):\n",
    "        super(B, self).__init__()\n",
    "        super().__init__()\n",
    "        A.__init__(self)\n",
    "        # self.__init__() 无限循环\n",
    "        # B.__init__(self) 无限循环\n",
    "b=B()\n",
    "\n",
    "\n",
    "'''再扩充父类构造函数'''\n",
    "class A():\n",
    "    def __init__(self,names):\n",
    "        print(names)\n",
    "class B(A):\n",
    "    \n",
    "# #使用父类本身 在子类中调用\n",
    "#     def __init__(self,name):\n",
    "#         A.__init__(self,name)  #首先调用父类构造函数 \n",
    "#        print('这是b附加的功能')    #其次增加自己构造函数\n",
    "\n",
    "\n",
    "#使用super调用\n",
    "    # def __init__(self,name):\n",
    "    #     super().__init__(name)\n",
    "    #     print('这是b附加的功能')    #其次增加自己构造函数\n",
    "    \n",
    "    \n",
    "#使用 super(B,self).__init__() 调用父类\n",
    "    def __init__(self,name):\n",
    "        super(B, self).__init__(name)\n",
    "        print('这是b附加的功能')\n",
    "\n",
    "\n",
    "\n",
    "\n",
    "b= B('我是b')"
   ]
  },
  {
   "cell_type": "code",
   "execution_count": 31,
   "metadata": {},
   "outputs": [],
   "source": [
    "'''\n",
    "        多态   不是语法  是一种思想\n",
    "        同一个对象在不同情况下有不同的状态出现\n",
    "        一种调用方式  可以右不同的调用结果\n",
    "'''\n"
   ]
  },
  {
   "cell_type": "code",
   "execution_count": 40,
   "metadata": {},
   "outputs": [
    {
     "name": "stdout",
     "output_type": "stream",
     "text": [
      "[<class '__main__.superman'>, <class '__main__.people'>, <class '__main__.teacher'>, <class 'object'>]\n"
     ]
    }
   ],
   "source": [
    "'''\n",
    "        Mixin设计模式\n",
    "                主要采用多继承的方式对类的功能进行扩展 而不改变类本身的特质\n",
    "                Mixin 功能必须单一如果多个功能那就写多个Mixin\n",
    "                Mixin 不能依赖子类的实现\n",
    "                子类没有及时继承这个Mixin类 也能照样工作 只是缺少了某些功能\n",
    "            优点:\n",
    "                Mixin可以在不对任何类进行修改的情况下进行扩充功能\n",
    "                方便组织维护不同功能\n",
    "                可以避免创建很多新类 导致类混乱\n",
    "            \n",
    "'''\n",
    "class people():\n",
    "    def eat(self):\n",
    "        pass\n",
    "    def sleep(self):\n",
    "        pass\n",
    "class teacher():\n",
    "    def work(self):\n",
    "        pass\n",
    "class superman(people,teacher):\n",
    "    pass\n",
    "print(superman.mro())"
   ]
  },
  {
   "cell_type": "code",
   "execution_count": 15,
   "metadata": {},
   "outputs": [],
   "source": [
    "'''\n",
    "        类的内置函数   \n",
    "        \n",
    "        isintance(要检测的实例,类本身) 返回一个bool值\n",
    "        issubclass(要检测的类,类) 返回一个bool值\n",
    "        hasattr\n",
    "        getattr\n",
    "        setattr\n",
    "        delattr\n",
    "        dir()  获取对象成员列表\n",
    "'''\n",
    "class A():\n",
    "    def eat(self):\n",
    "        pass\n",
    "class B():\n",
    "    def sleep(self):\n",
    "        pass\n"
   ]
  },
  {
   "cell_type": "code",
   "execution_count": 10,
   "metadata": {},
   "outputs": [
    {
     "name": "stdout",
     "output_type": "stream",
     "text": [
      "hi i am xiaoMING,age19\nhi i am huahua,age20\nhi i am XIAOMING,age19\nhi i am HUAHUA,age20\n我是name被读取了\n哈哈哈\n我是name被读取了\nXIAOMING\n我是age被读取了\n我是age被读取了\n20 <class 'int'>\n"
     ]
    }
   ],
   "source": [
    "'''\n",
    "        类的成员描述符:\n",
    "            类的成员描述符使为了类中对类的成员属性进行相关操作的一种方式\n",
    "            get\n",
    "            set\n",
    "            delete\n",
    "        如果使用类的成员描述符大概有三种方法:\n",
    "            使用类实现描述器\n",
    "            使用属性修饰器\n",
    "            使用property\n",
    "'''\n",
    "\n",
    "class studint():\n",
    "    def __init__(self,name,age):\n",
    "        self.name = name\n",
    "        self.age = age\n",
    "    def info(self):\n",
    "        print('hi i am {0},age{1}'.format(self.name,self.age))\n",
    "\n",
    "        \n",
    "xiaoming = studint('xiaoMING',19)\n",
    "huahua = studint('huahua',20)\n",
    "xiaoming.info()\n",
    "huahua.info()\n",
    "\n",
    "\n",
    "'''\n",
    "        对类成员属性进行大写操作\n",
    "'''\n",
    "\n",
    "\n",
    "class studint1():\n",
    "    def __init__(self,name,age):\n",
    "        self.age = age\n",
    "        self.set_name(name) # 自己调用自己的函数进行一些操作\n",
    "    def info(self):\n",
    "        print('hi i am {0},age{1}'.format(self.name,self.age))\n",
    "    def set_name(self, name): #传进来一个name参数 使其self.name大写操作\n",
    "        self.name = name.upper()\n",
    "        \n",
    "\n",
    "        \n",
    "xiaoming = studint1('xiaoMING',19)\n",
    "huahua = studint1('huahua',20)\n",
    "xiaoming.info()\n",
    "huahua.info()\n",
    "\n",
    "\n",
    "'''\n",
    "        使用property\n",
    "        obj = property(def读取,def赋值,def删除,'文档')\n",
    "'''\n",
    "\n",
    "class studint2():\n",
    "    #函数的名称可以任意\n",
    "    def __init__(self):\n",
    "        self.name = '哈哈哈'\n",
    "    def fget(self): #此函数是对成员进行读取时执行的代码\n",
    "        print('我是name被读取了')\n",
    "        return self.names\n",
    "    def fset(self,nam):#此函数时对成员进行赋值修改的时候执行的操作   \n",
    "                       #注意传入进来的参数 不能和propert的obj相同 否则无限循环\n",
    "                        \n",
    "        self.names = nam.upper() #对name大写操作\n",
    "    def fdel(self): #删除成员的时候进行的操作\n",
    "        self.names = 'NoName'\n",
    "    #下面是对age的操作\n",
    "    def Nget(self):\n",
    "        print('我是age被读取了')\n",
    "        return(self.ages)\n",
    "    def Nset(self,age):\n",
    "        self.ages = int(age)\n",
    "    def Ndel(self):\n",
    "        self.ages = 'NoAge'\n",
    "        \n",
    "    name = property(fget,fset,fdel,'对name的操作')\n",
    "    age = property(Nget,Nset,Ndel,'对age的操作')\n",
    "    \n",
    "s1 = studint2()      #创建实例\n",
    "print(s1.name)       #这里还没进行修改 还是实例化后init中的'哈哈哈'\n",
    "s1.name = 'xiaoming' #使实例创建name属性时自动调用fset方法\n",
    "                     # 把name传进函数中转为大写赋值给self.names\n",
    "print(s1.name)       #自动调用property对name进行了进行fget操作返回了设置的fget,的参数self.names\n",
    "s1.age = 20.00\n",
    "print(s1.age,type(s1.age))\n"
   ]
  },
  {
   "cell_type": "code",
   "execution_count": 73,
   "metadata": {},
   "outputs": [],
   "source": [
    "'''\n",
    "        类的内置属性\n",
    "'''\n",
    "dir(obj)    返回的是列表 list，dir()用来寻找一个对象的所有属性，包括__dict__中的属性，__dict__是dir()的子集\n",
    "__dict__    以字典的形式查看类的成员列表 键为属性名，值为属性值,并不是所有对象都拥有__dict__属性。\n",
    "            许多内建类型就没有__dict__属性，如 list，str,int,此时就需要用dir()来列出对象的所有属性。\n",
    "__doc__     获取类的文档信息\n",
    "__name__    获取类的名称 如果在模块中使用 则获取模块名称\n",
    "__bases__   获取类的父类以元组形式显示\n"
   ]
  },
  {
   "cell_type": "code",
   "execution_count": 1,
   "metadata": {},
   "outputs": [
    {
     "name": "stdout",
     "output_type": "stream",
     "text": [
      "{'__module__': '__main__', '__doc__': '\\n    这是一段代码\\n    ', 'name': 'xiaoming', '__dict__': <attribute '__dict__' of 'A' objects>, '__weakref__': <attribute '__weakref__' of 'A' objects>}\n********************\n\n    这是一段代码\n    \n********************\n(<class 'object'>,)\n['__class__', '__delattr__', '__dict__', '__dir__', '__doc__', '__eq__', '__format__', '__ge__', '__getattribute__', '__gt__', '__hash__', '__init__', '__init_subclass__', '__le__', '__lt__', '__module__', '__ne__', '__new__', '__reduce__', '__reduce_ex__', '__repr__', '__setattr__', '__sizeof__', '__str__', '__subclasshook__', '__weakref__', 'name']\n********************\n(<class '__main__.B'>, <class '__main__.A'>)\n"
     ]
    }
   ],
   "source": [
    "'''\n",
    "        __dict__与dir()的区别：\n",
    "\n",
    "        __dict__是一个字典，键为属性名，值为属性值；\n",
    "        dir()是一个函数，返回的是列表 list，dir()用来寻找一个对象的所有属性，包括__dict__中的属性，__dict__是dir()的子集；\n",
    "        并不是所有对象都拥有__dict__属性。许多内建类型就没有__dict__属性，如 list，此时就需要用dir()来列出对象的所有属性。\n",
    "\n",
    "'''\n",
    "class A():\n",
    "    '''\n",
    "    这是一段代码\n",
    "    '''\n",
    "    name = 'xiaoming'\n",
    "class B(A):\n",
    "    pass\n",
    "class F(B,A):\n",
    "    pass\n",
    "\n",
    "print(A.__dict__)\n",
    "print('*'*20)\n",
    "print(A.__doc__)\n",
    "print('*'*20)\n",
    "print(A.__bases__)\n",
    "print(dir(A))\n",
    "print('*'*20)\n",
    "print(F.__bases__)"
   ]
  },
  {
   "cell_type": "code",
   "execution_count": 14,
   "metadata": {},
   "outputs": [],
   "source": [
    "''\n",
    "'''\n",
    "        __new__ 对象实例化时第一个自动调用的方法  除非特殊情况一般不用 容易把对象搞没\n",
    "'''\n",
    "'''\n",
    "        __del__ 是用来删除对象的时候来调用的,一般用来释放资源   如果资源不再占用 则会自动释放自动执行这个函数\n",
    "'''\n"
   ]
  },
  {
   "cell_type": "code",
   "execution_count": 2,
   "metadata": {},
   "outputs": [
    {
     "name": "stdout",
     "output_type": "stream",
     "text": [
      "我是A的构造方法\n********************\n我是B的构造方法\n********************\n这样就可以把类当函数用了\n"
     ]
    }
   ],
   "source": [
    "'''\n",
    "        __call__  对象当函数的时候触发\n",
    "'''\n",
    "class A():\n",
    "    def __init__(self,namne = 0):\n",
    "        print('我是A的构造方法')\n",
    "a = A()\n",
    "#a()  #把实例a 当函数用 TypeError: 'A' object is not callable\n",
    "print('*'*20)\n",
    "class B():\n",
    "    def __init__(self,namne = 0):\n",
    "        print('我是B的构造方法')\n",
    "    def __call__(self, *args, **kwargs):\n",
    "        print('这样就可以把类当函数用了')\n",
    "\n",
    "b = B()\n",
    "print('*'*20)\n",
    "b()"
   ]
  },
  {
   "cell_type": "code",
   "execution_count": 5,
   "metadata": {
    "collapsed": true
   },
   "outputs": [
    {
     "name": "stdout",
     "output_type": "stream",
     "text": [
      "<__main__.A object at 0x05608D70>\n这是str的print\n我被当做字符调用了小芳\n这是str的print\n我被当做字符调用了小芳\n********************\n********************\n"
     ]
    }
   ],
   "source": [
    "'''\n",
    "        __str__ 当对象被当作字符串的时候 调用  只能return str类型\n",
    "        正常的时候是显示 class at xxxx  这样的格式\n",
    "'''\n",
    "class A():\n",
    "    def __init__(self):\n",
    "        pass\n",
    "\n",
    "a = A()\n",
    "print(a) # 显示a的内存地址 仅此而已\n",
    "class A():\n",
    "    def __init__(self):\n",
    "        self.name = '小芳'\n",
    "        pass\n",
    "    def __str__(self):\n",
    "        print('这是str的print')\n",
    "        return '我被当做字符调用了{0}'.format(self.name)\n",
    "\n",
    "a = A()\n",
    "print(a)  #可以直接用print打印\n",
    "x = a   #可以把a赋值给对象\n",
    "print(x)\n",
    "print('*'*20)\n",
    "print('*'*20)"
   ]
  },
  {
   "cell_type": "code",
   "execution_count": 82,
   "metadata": {},
   "outputs": [
    {
     "name": "stdout",
     "output_type": "stream",
     "text": [
      "构造方法\n这是repr的print\n这是repr\n这是repr的print\n"
     ]
    },
    {
     "data": {
      "text/plain": [
       "这是repr"
      ]
     },
     "execution_count": 82,
     "metadata": {},
     "output_type": "execute_result"
    }
   ],
   "source": [
    "'''\n",
    "        __repr__ 当对象被当作字符串的时候\n",
    "'''\n",
    "class A():\n",
    "    def __init__(self):\n",
    "        print(\"构造方法\")\n",
    "    def __repr__(self):\n",
    "        print('这是repr的print')\n",
    "        return '这是repr'\n",
    "a = A()\n",
    "print(a)\n"
   ]
  },
  {
   "cell_type": "code",
   "execution_count": 108,
   "metadata": {},
   "outputs": [
    {
     "name": "stdout",
     "output_type": "stream",
     "text": [
      "********************\n这是B的repr\n"
     ]
    },
    {
     "data": {
      "text/plain": [
       "这是B的repr的return"
      ]
     },
     "execution_count": 108,
     "metadata": {},
     "output_type": "execute_result"
    }
   ],
   "source": [
    "'''\n",
    "        __str__ 和 __repr__ 的区别\n",
    "        如果看区别要先把 A , B 注释掉其中一个\n",
    "'''\n",
    "class A():\n",
    "    def __str__(self):\n",
    "        print('这是A的str')\n",
    "        return  '这是A的str的return'\n",
    "a =A()\n",
    "a #直接调用会return显示a的内存地址 <__main__.A at 0xbf2410>     不会执行print \n",
    "\n",
    "print('*'*20)\n",
    "\n",
    "class B():\n",
    "    def __repr__(self):\n",
    "        print('这是B的repr')\n",
    "        return '这是B的repr的return'\n",
    "b = B()\n",
    "b  #如果用repr方法 会执行print语句 return回相应的操作\n",
    "\n"
   ]
  },
  {
   "cell_type": "code",
   "execution_count": 93,
   "metadata": {},
   "outputs": [],
   "source": [
    "'''\n",
    "        类的描述符相关\n",
    "        __get__\n",
    "        __set__\n",
    "        __delete__\n",
    "'''\n",
    "\n",
    "\n",
    "'''\n",
    "        占坑\n",
    "'''"
   ]
  },
  {
   "cell_type": "code",
   "execution_count": 133,
   "metadata": {},
   "outputs": [
    {
     "name": "stdout",
     "output_type": "stream",
     "text": [
      "No Name\n没找到addr\n这里时__getattr__的return语句\n********************\n********************\n设置属性age\n"
     ]
    },
    {
     "data": {
      "text/plain": [
       "{'age': 19}"
      ]
     },
     "execution_count": 133,
     "metadata": {},
     "output_type": "execute_result"
    }
   ],
   "source": [
    "'''\n",
    "        属性操作相关\n",
    "'''\n",
    "\n",
    "'''\n",
    "        __getattr__ 当访问一个不存在的属性的时候调用此方法\n",
    "'''\n",
    "class A():\n",
    "    name = \"No Name\"\n",
    "    age = 18\n",
    "    def __getattr__(self,args):\n",
    "        print('没找到{0}'.format(args))\n",
    "        return '这里时__getattr__的return语句'\n",
    "a = A()\n",
    "print(a.name) # 这个可以正常访问正常打印\n",
    "print(a.addr)#这里访问不存在的属性也不报错 执行__getattr__里面的命令 并且默认return回None\n",
    "\n",
    "print('*'*20)\n",
    "print('*'*20)\n",
    "\n",
    "\n",
    "\n",
    "'''\n",
    "        __setarrt__ 对成员属性进行设置的时候触发\n",
    "            参数:\n",
    "                self用来获取当前对象\n",
    "                被设置的属性名称以字符串形式出现\n",
    "                需要对属性名称设置的值\n",
    "            作用:进行属性设置的时候进行验证和修改\n",
    "            注意:在__setattr__中不能进行赋值操作 否则进入死循环\n",
    "'''\n",
    "class person():\n",
    "    def __init__(self):\n",
    "        pass\n",
    "    def __setattr__(self, key, value):\n",
    "        print('设置属性{0}'.format(key))\n",
    "        # self.key = value #这里会触发死循环外部设置age = 19之后执行到这一步之后由于 self.key = value \n",
    "                            #导致属性又进行了设置操作 会再调用__setatr__方法 导致无限循环\n",
    "        super().__setattr__(key,value)  #这里调用父类的__setattr__方法,通过对象传入key value到父类里 跳出四训华\n",
    "p = person()\n",
    "p.__dict__   #为空\n",
    "\n",
    "p.age = 19 # 设置创建一个age的属性\n",
    "p.__dict__ "
   ]
  },
  {
   "cell_type": "code",
   "execution_count": 151,
   "metadata": {},
   "outputs": [
    {
     "name": "stdout",
     "output_type": "stream",
     "text": [
      "哈哈<__main__.studint object at 0x06298DB0>会比<__main__.studint object at 0x06298450>大吗\nFalse\n"
     ]
    }
   ],
   "source": [
    "'''\n",
    "        运算类相关:\n",
    "'''\n",
    "\n",
    "\n",
    "'''\n",
    "        __gt__ :进行大于判断的时候触发的函数 根据ascii码表的顺序排序\n",
    "                参数:self,第二个参数是第二个对象 ,返回值可以为默认值 但是推荐bool值\n",
    "'''\n",
    "class studint():\n",
    "    def __init__(self,name):\n",
    "        self.name = name \n",
    "    def __gt__(self, other):\n",
    "        print('哈哈{1}会比{0}大吗'.format(self,other))\n",
    "        return self.name>other.name  #这里进行返回bool值操作\n",
    "std1 = studint('1')\n",
    "std2 = studint('2')\n",
    "print(xiaoming>huahua)"
   ]
  },
  {
   "cell_type": "code",
   "execution_count": 191,
   "metadata": {},
   "outputs": [
    {
     "data": {
      "text/plain": [
       "'\\n            类和对象的三种方法:\\n                        实例方法:需要实例化对象才能使用的方法,使用过程中可能需要其他对象的方法来完成\\n                        类方法:不需要实例化\\n                        静态方法:不需要实例化通过类直接访问\\n'"
      ]
     },
     "execution_count": 191,
     "metadata": {},
     "output_type": "execute_result"
    }
   ],
   "source": [
    "''''''\n",
    "\n",
    "'''\n",
    "            类和对象的三种方法:\n",
    "                        实例方法:需要实例化对象才能使用的方法,使用过程中可能需要其他对象的方法来完成\n",
    "                        类方法:不需要实例化\n",
    "                        静态方法:不需要实例化通过类直接访问\n",
    "'''\n",
    "\n",
    "\n"
   ]
  },
  {
   "cell_type": "code",
   "execution_count": 4,
   "metadata": {},
   "outputs": [
    {
     "name": "stdout",
     "output_type": "stream",
     "text": [
      "我要吃饭\n我要吃饭\n我要吃饭\n"
     ]
    }
   ],
   "source": [
    "''''''\n",
    "'''\n",
    "        实例方法:只有实例才能调用,类本身调用需要传入参数\n",
    "'''\n",
    "class person():\n",
    "    def eat(self):\n",
    "        print('我要吃饭')\n",
    "        \n",
    "p1 = person()\n",
    "p1.eat()                #实例化后正常调用\n",
    "person().eat()          #用类调用需要带()\n",
    "person.eat(person)      #person 可以替换成已定义的obj   不带括号调用需要给eat传入参数来替换self"
   ]
  },
  {
   "cell_type": "code",
   "execution_count": 5,
   "metadata": {},
   "outputs": [
    {
     "name": "stdout",
     "output_type": "stream",
     "text": [
      "玩游戏\n我要玩\n我要玩\n"
     ]
    }
   ],
   "source": [
    "''''''\n",
    "'''\n",
    "        类方法 @calssmethod    \n",
    "            实例化前后调用无差别,\n",
    "        区别于self   一般用cls\n",
    "'''\n",
    "class person():\n",
    "    def player():\n",
    "        print('玩游戏')\n",
    "\n",
    "    @classmethod\n",
    "    def play(cls):\n",
    "        print('我要玩')\n",
    "        \n",
    "person.player()     #正常调用\n",
    "person.play()   #正常调用\n",
    "p2 = person()#  #实例化一下调用看看\n",
    "p2.play() \n",
    "# # p2.player() #  提示需要0个参数但是你多给了1个参数(self)  player() takes 0 positional arguments but 1 was given"
   ]
  },
  {
   "cell_type": "code",
   "execution_count": 189,
   "metadata": {},
   "outputs": [
    {
     "name": "stdout",
     "output_type": "stream",
     "text": [
      "说话啊\n我不会啊\n我不会啊\n"
     ]
    }
   ],
   "source": [
    "''''''\n",
    "'''\n",
    "        静态方法 不需要有self 和cls     实例化后的对象和类本身无差别调用\n",
    "'''\n",
    "class person():\n",
    "    def say():\n",
    "        print('说话啊')\n",
    "    @staticmethod\n",
    "    def saying():\n",
    "        print('我不会啊')\n",
    "person.say()  #类本身不需要传入参数就能调用\n",
    "person.saying() #类本身不需要传入参数就能调用\n",
    "\n",
    "p1 = person()#实例化\n",
    "p1.saying()  #实例后的对象也可以调用\n",
    "# p1.say()    #报错"
   ]
  },
  {
   "cell_type": "code",
   "execution_count": 14,
   "metadata": {},
   "outputs": [
    {
     "name": "stdout",
     "output_type": "stream",
     "text": [
      "********************\n********************\n闻一闻\n握手\n"
     ]
    }
   ],
   "source": [
    "''''''\n",
    "'''\n",
    "        \n",
    "        抽象方法:    只定义方法而不实现内容\n",
    "                   有些时候在父类实现可能在子类不ok\n",
    "                   比如每个子类的功能可能不尽相同\n",
    "                   抽象方法主要规范了子类的行为和接口\n",
    "'''\n",
    "class animel(): #创建抽象类   由子类实现\n",
    "    def say_hello(self): \n",
    "        pass   #每种动物打招呼的方式可能不同\n",
    "    \n",
    "class dog(animel):\n",
    "    def say_hello(self):\n",
    "        print('闻一闻')\n",
    "class people(animel):\n",
    "    def say_hello(self):\n",
    "        print('握手')\n",
    "\n",
    "print('*'*20)\n",
    "print('*'*20)\n",
    "\n",
    "'''\n",
    "        抽象类 包含抽象方法的类\n",
    "        抽象类可以包含抽象方法 也可以包含具体方法,类中可以有方法有成员属性\n",
    "        抽象类不允许实例化,必须继承才可以使用,且继承的子类必须实现所有的抽象方法\n",
    "                假定子类没有实现所有的方法,则子类也不能实例化\n",
    "        抽象类主要设定类的标准以便开发时同一规范\n",
    "'''\n",
    "\n",
    "import abc\n",
    "class man(metaclass=abc.ABCMeta):#定义一个类并且指定抽象类的元类\n",
    "    \n",
    "    @abc.abstractmethod  #定义一个抽象方法\n",
    "    def somking(self):\n",
    "        pass\n",
    "    \n",
    "    @abc.abstractclassmethod #定义类抽象方法\n",
    "    def drink(cls):\n",
    "        pass\n",
    "    \n",
    "    @abc.abstractstaticmethod #定义一个静态方法\n",
    "    def play():\n",
    "        pass\n",
    "    def sleep(self):#定义具体方法\n",
    "        print('sleeping')\n",
    "    \n",
    "    \n",
    "    \n",
    "\n",
    "d = dog()\n",
    "p = people()\n",
    "d.say_hello()\n",
    "p.say_hello()"
   ]
  },
  {
   "cell_type": "code",
   "execution_count": 30,
   "metadata": {},
   "outputs": [
    {
     "name": "stdout",
     "output_type": "stream",
     "text": [
      "say啊\n********************\n"
     ]
    },
    {
     "ename": "TypeError",
     "evalue": "say() missing 1 required positional argument: 'self'",
     "traceback": [
      "\u001b[0;31m---------------------------------------------------------------------------\u001b[0m",
      "\u001b[0;31mTypeError\u001b[0m                                 Traceback (most recent call last)",
      "\u001b[0;32m<ipython-input-30-b640231ef619>\u001b[0m in \u001b[0;36m<module>\u001b[0;34m()\u001b[0m\n\u001b[1;32m     25\u001b[0m \u001b[0ma\u001b[0m \u001b[0;34m=\u001b[0m \u001b[0mA\u001b[0m\u001b[0;34m(\u001b[0m\u001b[0;34m)\u001b[0m\u001b[0;31m#先实例化后再往类中添加方法\u001b[0m\u001b[0;34m\u001b[0m\u001b[0m\n\u001b[1;32m     26\u001b[0m \u001b[0ma\u001b[0m\u001b[0;34m.\u001b[0m\u001b[0msay\u001b[0m \u001b[0;34m=\u001b[0m \u001b[0msay\u001b[0m\u001b[0;34m\u001b[0m\u001b[0m\n\u001b[0;32m---> 27\u001b[0;31m \u001b[0ma\u001b[0m\u001b[0;34m.\u001b[0m\u001b[0msay\u001b[0m\u001b[0;34m(\u001b[0m\u001b[0;34m)\u001b[0m\u001b[0;31m#实例化后就无法把函数添加进去了报错say缺少一个必须的位置参数 'self\u001b[0m\u001b[0;34m\u001b[0m\u001b[0m\n\u001b[0m",
      "\u001b[0;31mTypeError\u001b[0m: say() missing 1 required positional argument: 'self'"
     ],
     "output_type": "error"
    }
   ],
   "source": [
    "''''''\n",
    "'''\n",
    "        自定义类:\n",
    "            类是一个属性和方法的组合\n",
    "            可以定义函数然后通过类进行直接赋值\n",
    "            可以借助MethodType实现\n",
    "            手动用Type组装一个类\n",
    "            使用元类实现MetaClass\n",
    "'''\n",
    "\n",
    "\n",
    "\n",
    "'''\n",
    "        动态的添加类,函数名可以当变量使用  且能传入类中\n",
    "'''\n",
    "class A():\n",
    "    pass\n",
    "\n",
    "def say(self): # 这个say 像不像一个类中的方法\n",
    "    print('say啊')\n",
    "\n",
    "A.say = say  #可以把函数当变量使用添加进A\n",
    "a = A()# 实例化A\n",
    "a.say() #这里可以正常调用 且由于上方函数有self 实例a自动传入 直接调用\n",
    "\n",
    "print('*'*20)\n",
    "\n",
    "class A():\n",
    "    pass\n",
    "\n",
    "def say(self): # 这个say 像不像一个类中的方法\n",
    "    print('say啊')\n",
    "a = A()#先实例化后再往类中添加方法\n",
    "a.say = say\n",
    "a.say()#实例化后就无法把函数添加进去了报错say缺少一个必须的位置参数 'self"
   ]
  },
  {
   "cell_type": "code",
   "execution_count": 34,
   "metadata": {},
   "outputs": [
    {
     "name": "stdout",
     "output_type": "stream",
     "text": [
      "hello\nHelp on class method in module builtins:\n\nclass method(object)\n |  method(function, instance)\n |  \n |  Create a bound instance method object.\n |  \n |  Methods defined here:\n |  \n |  __call__(self, /, *args, **kwargs)\n |      Call self as a function.\n |  \n |  __delattr__(self, name, /)\n |      Implement delattr(self, name).\n |  \n |  __eq__(self, value, /)\n |      Return self==value.\n |  \n |  __ge__(self, value, /)\n |      Return self>=value.\n |  \n |  __get__(self, instance, owner, /)\n |      Return an attribute of instance, which is of type owner.\n |  \n |  __getattribute__(self, name, /)\n |      Return getattr(self, name).\n |  \n |  __gt__(self, value, /)\n |      Return self>value.\n |  \n |  __hash__(self, /)\n |      Return hash(self).\n |  \n |  __le__(self, value, /)\n |      Return self<=value.\n |  \n |  __lt__(self, value, /)\n |      Return self<value.\n |  \n |  __ne__(self, value, /)\n |      Return self!=value.\n |  \n |  __new__(*args, **kwargs) from builtins.type\n |      Create and return a new object.  See help(type) for accurate signature.\n |  \n |  __reduce__(...)\n |      helper for pickle\n |  \n |  __repr__(self, /)\n |      Return repr(self).\n |  \n |  __setattr__(self, name, value, /)\n |      Implement setattr(self, name, value).\n |  \n |  ----------------------------------------------------------------------\n |  Data descriptors defined here:\n |  \n |  __func__\n |      the function (or other callable) implementing a method\n |  \n |  __self__\n |      the instance to which a method is bound\n\n"
     ]
    }
   ],
   "source": [
    "''\n",
    "'''\n",
    "        解决上方错误使用第三方模块动态的添加类方法\n",
    "        from types import MethodType\n",
    "'''\n",
    "from types import MethodType #导入模块\n",
    "class A(): #创建新类\n",
    "    pass\n",
    "def say(self):#创建函数\n",
    "    print('hello')\n",
    "a = A()\n",
    "a.say = MethodType(say,A) #使say函数绑定到A\n",
    "a.say()\n",
    "help(MethodType) #MethodType使一个类 "
   ]
  },
  {
   "cell_type": "code",
   "execution_count": 20,
   "metadata": {},
   "outputs": [
    {
     "name": "stdout",
     "output_type": "stream",
     "text": [
      "saying\nsleeping\n"
     ]
    }
   ],
   "source": [
    "''''''\n",
    "'''\n",
    "        使用Type组装一个类\n",
    "        obj = type('name',(bases,),{'class_name1':func_name1,'class_name2':func_name2})-->New Type\n",
    "'''\n",
    "\n",
    "def say(self):# 定义类的成员函数\n",
    "    print('saying')\n",
    "def sleep(self):# 定义类的成员函数\n",
    "    print('sleeping')\n",
    "A = type('A_Name',(object,),{'class_say':say,'class_sleep':sleep}) #创建一个包含上面两个方法的类\n",
    "a=A()\n",
    "a.class_say()\n",
    "a.class_sleep()\n",
    "\n"
   ]
  },
  {
   "cell_type": "code",
   "execution_count": 3,
   "metadata": {},
   "outputs": [
    {
     "name": "stdout",
     "output_type": "stream",
     "text": [
      "我是A_MetaClass\n00000\n上海\n"
     ]
    }
   ],
   "source": [
    "''''''\n",
    "'''\n",
    "        使用MetaClass 实现类的组装\n",
    "        元类的写法使固定的 必须继承自type\n",
    "        元类约定俗成使用MetaClass结尾\n",
    "'''\n",
    "class A_MetaClass(type):\n",
    "    def __new__(cls, name,bases,attrs):\n",
    "        # 自定义业务处理\n",
    "        print('我是A_MetaClass')\n",
    "        attrs['id'] = '00000'\n",
    "        attrs['map'] = '上海'\n",
    "        return type.__new__(cls,name,bases,attrs) #定义完毕\n",
    "    \n",
    "class B(object,metaclass=A_MetaClass): #使用A_MetaClass作为  metaclass(基类)  创建类 'B'\n",
    "    pass\n",
    "b = B()\n",
    "print(b.id)\n",
    "print(b.map)"
   ]
  },
  {
   "cell_type": "code",
   "execution_count": 19,
   "metadata": {},
   "outputs": [
    {
     "name": "stdout",
     "output_type": "stream",
     "text": [
      "(<class '__main__.A'>,)\n[<class '__main__.B'>, <class '__main__.A'>, <class '__main__.C'>, <class 'object'>]\n"
     ]
    }
   ],
   "source": [
    "\n",
    "class C():\n",
    "    pass\n",
    "class A(C):\n",
    "    pass\n",
    "class B(A):\n",
    "    pass\n",
    "print(B.__bases__)\n",
    "print(B.mro())"
   ]
  },
  {
   "cell_type": "code",
   "execution_count": 2,
   "metadata": {},
   "outputs": [
    {
     "ename": "NameError",
     "evalue": "name 'ma' is not defined",
     "traceback": [
      "\u001b[0;31m---------------------------------------------------------------------------\u001b[0m",
      "\u001b[0;31mNameError\u001b[0m                                 Traceback (most recent call last)",
      "\u001b[0;32m<ipython-input-2-e1c995ffcb8b>\u001b[0m in \u001b[0;36m<module>\u001b[0;34m()\u001b[0m\n\u001b[0;32m----> 1\u001b[0;31m \u001b[0mprint\u001b[0m\u001b[0;34m(\u001b[0m\u001b[0mma\u001b[0m\u001b[0;34m)\u001b[0m\u001b[0;34m\u001b[0m\u001b[0m\n\u001b[0m",
      "\u001b[0;31mNameError\u001b[0m: name 'ma' is not defined"
     ],
     "output_type": "error"
    }
   ],
   "source": [
    ""
   ]
  },
  {
   "cell_type": "code",
   "execution_count": null,
   "metadata": {},
   "outputs": [],
   "source": []
  }
 ],
 "metadata": {
  "kernelspec": {
   "display_name": "Python 2",
   "language": "python",
   "name": "python2"
  },
  "language_info": {
   "codemirror_mode": {
    "name": "ipython",
    "version": 2
   },
   "file_extension": ".py",
   "mimetype": "text/x-python",
   "name": "python",
   "nbconvert_exporter": "python",
   "pygments_lexer": "ipython2",
   "version": "2.7.6"
  }
 },
 "nbformat": 4,
 "nbformat_minor": 0
}
