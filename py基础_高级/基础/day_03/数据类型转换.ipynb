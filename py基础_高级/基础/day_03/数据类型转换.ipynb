{
 "cells": [
  {
   "cell_type": "code",
   "execution_count": 1,
   "metadata": {
    "collapsed": true
   },
   "outputs": [
    {
     "name": "stdout",
     "output_type": "stream",
     "text": [
      "{1, 2, 3, 4, 5}\n{1, 2, 3, 4, 5}\n{'5', '4', '2', '3', '1'}\n"
     ]
    }
   ],
   "source": [
    "''\n",
    "'''\n",
    "        集合\n",
    "'''\n",
    "c_list = [1,2,3,4,5]\n",
    "c_tuple = (1,2,3,4,5)\n",
    "c_str = '12345'\n",
    "\n",
    "c_l_s = set(c_list)\n",
    "c_t_s = set(c_tuple)\n",
    "c_s_s = set(c_str)\n",
    "print(c_l_s,)\n",
    "print(c_t_s)\n",
    "print(c_s_s)"
   ]
  },
  {
   "cell_type": "code",
   "execution_count": 2,
   "metadata": {},
   "outputs": [],
   "source": [
    "''\n",
    "'''\n",
    "        列表\n",
    "'''"
   ]
  },
  {
   "cell_type": "code",
   "execution_count": 2,
   "metadata": {},
   "outputs": [],
   "source": [
    "''\n",
    "'''\n",
    "        str\n",
    "'''"
   ]
  },
  {
   "cell_type": "code",
   "execution_count": 2,
   "metadata": {},
   "outputs": [],
   "source": []
  },
  {
   "cell_type": "code",
   "execution_count": 2,
   "metadata": {},
   "outputs": [],
   "source": []
  },
  {
   "cell_type": "code",
   "execution_count": null,
   "metadata": {},
   "outputs": [],
   "source": []
  }
 ],
 "metadata": {
  "kernelspec": {
   "display_name": "Python 2",
   "language": "python",
   "name": "python2"
  },
  "language_info": {
   "codemirror_mode": {
    "name": "ipython",
    "version": 2
   },
   "file_extension": ".py",
   "mimetype": "text/x-python",
   "name": "python",
   "nbconvert_exporter": "python",
   "pygments_lexer": "ipython2",
   "version": "2.7.6"
  }
 },
 "nbformat": 4,
 "nbformat_minor": 0
}
