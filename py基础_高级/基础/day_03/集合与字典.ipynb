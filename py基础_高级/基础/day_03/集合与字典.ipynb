{
 "cells": [
  {
   "cell_type": "code",
   "execution_count": 1,
   "metadata": {
    "collapsed": false
   },
   "outputs": [
    {
     "data": {
      "text/plain": [
       "'\\n        字典内部是无序的\\n'"
      ]
     },
     "execution_count": 1,
     "metadata": {},
     "output_type": "execute_result"
    }
   ],
   "source": [
    "''\n",
    "'''\n",
    "        字典内部的顺序:\n",
    "            字典的内部顺序在3.5之前是无序的\n",
    "            在3.5之后 字典变成有序的\n",
    "        字典中的key是唯一的不可重复的\n",
    "'''"
   ]
  },
  {
   "cell_type": "code",
   "execution_count": 14,
   "metadata": {},
   "outputs": [
    {
     "name": "stdout",
     "output_type": "stream",
     "text": [
      "1\nNone\n"
     ]
    }
   ],
   "source": [
    "''\n",
    "'''\n",
    "        字典的定义和引用\n",
    "'''\n",
    "#定义一个字典\n",
    "a = dict()\n",
    "a = {}\n",
    "a = {'one':1 ,'two':2,'three':3}\n",
    "\n",
    "#引用\n",
    "print(a['one'])\n",
    "# print(a['three']) #这种方法如果字典中不存在key 则会报错\n",
    "print(a.get('four')) #用get访问不存在的key 会返回None"
   ]
  },
  {
   "cell_type": "code",
   "execution_count": 22,
   "metadata": {},
   "outputs": [
    {
     "name": "stdout",
     "output_type": "stream",
     "text": [
      "one\ntwo\nthree\n1\n2\n3\none 1\ntwo 2\nthree 3\n"
     ]
    }
   ],
   "source": [
    "''\n",
    "'''\n",
    "        字典的遍历\n",
    "'''\n",
    "\n",
    "\n",
    "\n",
    "'''\n",
    "        通过字典的keys方法可以获取字典的所有key 返回包含key的列表\n",
    "'''\n",
    "a = {'one':1 ,'two':2,'three':3}\n",
    "for k in a.keys():\n",
    "    print(k)  \n",
    "\n",
    "\n",
    "'''\n",
    "        通过字典的values方法可以获取字典中所有的value 返回包含values的列表\n",
    "'''\n",
    "a = {'one':1 ,'two':2,'three':3}\n",
    "for v in a.values():\n",
    "    print(v)  \n",
    "\n",
    "\n",
    "'''\n",
    "        字典的items 返回一个列表  列表中保存的以元组形式保存的元素键值对\n",
    "'''\n",
    "a = {'one':1 ,'two':2,'three':3}\n",
    "for k,v in a.items():\n",
    "    print(k,v)"
   ]
  },
  {
   "cell_type": "code",
   "execution_count": 35,
   "metadata": {},
   "outputs": [
    {
     "name": "stdout",
     "output_type": "stream",
     "text": [
      "{'one': 1}\n{'one': '一'}\n一\n一\nNone\n"
     ]
    },
    {
     "data": {
      "text/plain": [
       "'\\n\\n'"
      ]
     },
     "execution_count": 35,
     "metadata": {},
     "output_type": "execute_result"
    }
   ],
   "source": [
    "''\n",
    "'''\n",
    "        字典的增删改查\n",
    "'''\n",
    "\n",
    "'''\n",
    "        添加数据时以键值对的形式添加\n",
    "            dict['key']=value\n",
    "'''\n",
    "a= {}\n",
    "a['one'] = 1\n",
    "print(a)\n",
    "\n",
    "'''\n",
    "        修改数据\n",
    "            dict['key']=value 在修改数据时会判断指定的key是否存在 如果不存在就是\"添加数据\"\n",
    "            如果key存在 就变成\"修改数据\"使用新值覆盖指定key对应的value\n",
    "'''\n",
    "a['one']='一'\n",
    "print(a)\n",
    "\n",
    "\n",
    "'''\n",
    "        查 如果访问一个不存在的数据 则会报错\n",
    "        使用get 访问一个不存在的数据 会返回None\n",
    "'''\n",
    "print(a['one'])\n",
    "# print(a['three'])#访问一个不存在的数据\n",
    "print(a.get('one'))\n",
    "print(a.get('three'))\n",
    "\n",
    "\n",
    "\n",
    "'''\n",
    "        dict.popitem 默认去掉最后一个\n",
    "        del语法 是del()函数的简写可以删除指定键值对,可以删除整个对象\n",
    "        dict.pop(self,'str') 用pop删除指定值需要给出参数\n",
    "'''\n",
    "\n",
    "\n",
    "'''\n",
    "        \n",
    "'''\n",
    "\n",
    "'''\n",
    "\n",
    "'''"
   ]
  },
  {
   "cell_type": "code",
   "execution_count": 46,
   "metadata": {},
   "outputs": [
    {
     "name": "stdout",
     "output_type": "stream",
     "text": [
      "{1, 2, 3, 4, 5}\n{1, 2, 3, 4, 5}\n{'3', '4', '5', '2', '1'}\n"
     ]
    }
   ],
   "source": [
    "''''''\n",
    "'''\n",
    "        集合可以理解成是列表和字典的结合体\n",
    "        集合中的每个数据是唯一 用来去重\n",
    "        定义 如果使用 obj = {} 则定义的是一个空字典\n",
    "        obj = set()\n",
    "'''"
   ]
  },
  {
   "cell_type": "code",
   "execution_count": 12,
   "metadata": {},
   "outputs": [
    {
     "name": "stdout",
     "output_type": "stream",
     "text": [
      "{1, 2, 3}\n{1, 2, 3, 4}\n{1, 2, 3, 4, '2', '6', '7', '5'}\n{1, 2, 3, 4, '2', '7', '5'}\n{2, 3, 4, '2', '7', '5'}\n{2, 3, 4, '2', '7', '5'}\n"
     ]
    }
   ],
   "source": [
    "''\n",
    "'''\n",
    "        集合的操作\n",
    "'''\n",
    "\n",
    "'''\n",
    "        增\n",
    "            set.add(obj) #把指定元素添加到集合中一次只能添加一个\n",
    "            set.update(iters)添加一个可迭代对象到集合中 可以是字典 可以是列表等等可以一次添加多个用逗号','分隔\n",
    "'''\n",
    "        \n",
    "a = {1,2,3}\n",
    "print(a)\n",
    "a.add(4)\n",
    "print(a)\n",
    "a.update('5672')\n",
    "print(a)\n",
    "\n",
    "'''\n",
    "        删\n",
    "            set.remove(obj) 删除指定的obj\n",
    "            set.pop() 随机删除一个obj\n",
    "            set.clear()清空\n",
    "            set.discard(obj) 删除集合指定元素如果不存在也不会报错\n",
    "'''\n",
    "a.remove('6')\n",
    "print(a)\n",
    "a.pop()\n",
    "print(a)\n",
    "a.discard('88')\n",
    "print(a)\n"
   ]
  },
  {
   "cell_type": "code",
   "execution_count": 7,
   "metadata": {},
   "outputs": [],
   "source": [
    "\n"
   ]
  },
  {
   "cell_type": "code",
   "execution_count": 10,
   "metadata": {},
   "outputs": [],
   "source": []
  },
  {
   "cell_type": "code",
   "execution_count": 10,
   "metadata": {},
   "outputs": [],
   "source": []
  },
  {
   "cell_type": "code",
   "execution_count": 10,
   "metadata": {},
   "outputs": [],
   "source": []
  },
  {
   "cell_type": "code",
   "execution_count": 10,
   "metadata": {},
   "outputs": [],
   "source": []
  },
  {
   "cell_type": "code",
   "execution_count": null,
   "metadata": {},
   "outputs": [],
   "source": []
  }
 ],
 "metadata": {
  "kernelspec": {
   "display_name": "Python 2",
   "language": "python",
   "name": "python2"
  },
  "language_info": {
   "codemirror_mode": {
    "name": "ipython",
    "version": 2
   },
   "file_extension": ".py",
   "mimetype": "text/x-python",
   "name": "python",
   "nbconvert_exporter": "python",
   "pygments_lexer": "ipython2",
   "version": "2.7.6"
  }
 },
 "nbformat": 4,
 "nbformat_minor": 0
}
