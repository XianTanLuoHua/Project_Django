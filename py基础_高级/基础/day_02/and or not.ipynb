{
 "cells": [
  {
   "cell_type": "code",
   "execution_count": 1,
   "metadata": {
    "collapsed": true
   },
   "outputs": [],
   "source": [
    "布尔运算（Boolean Operations）\n",
    "and（并且）：x and y，如果x为假，返回x，否则返回y；这是一个短路（short-circuit）逻辑运算符，\n",
    "    所以只有第一个参数是真的时，它才对第二个参数求值。\n",
    "or（或者）：x or y，如果x为假，返回y，否则返回x；这是一个短路（short-circuit）逻辑运算符，\n",
    "    所以它只对第一个参数为false时的第二个参数进行求值。\n",
    "not（不是）：not比非布尔运算符优先级低，所以not a == b等同于not (a == b)，\n",
    "    并且a == not b 这种是错误语法。\n",
    "\n",
    "在没有其他限定时，and的优先级大于or"
   ]
  },
  {
   "cell_type": "code",
   "execution_count": 2,
   "metadata": {},
   "outputs": [
    {
     "ename": "SyntaxError",
     "evalue": "invalid character in identifier (<ipython-input-2-ad83110c3809>, line 1)",
     "traceback": [
      "\u001b[0;36m  File \u001b[0;32m\"<ipython-input-2-ad83110c3809>\"\u001b[0;36m, line \u001b[0;32m1\u001b[0m\n\u001b[0;31m    在x or y的值只可能是x或y。 当x为true时是x, x为false时是y\u001b[0m\n\u001b[0m                    ^\u001b[0m\n\u001b[0;31mSyntaxError\u001b[0m\u001b[0;31m:\u001b[0m invalid character in identifier\n"
     ],
     "output_type": "error"
    }
   ],
   "source": [
    "在x or y的值只可能是x或y。 当x为true时是x, x为false时是y\n",
    "\n",
    "在x and y的值只可能是x或y。 当x为true时是y, x为false时是x\n",
    "\n",
    "例：3 or 9 and 4: 先算9 and 4, 9为true, 值为4. 再算3 or 4, 3为true,值为：3"
   ]
  },
  {
   "cell_type": "code",
   "execution_count": null,
   "metadata": {},
   "outputs": [],
   "source": []
  }
 ],
 "metadata": {
  "kernelspec": {
   "display_name": "Python 2",
   "language": "python",
   "name": "python2"
  },
  "language_info": {
   "codemirror_mode": {
    "name": "ipython",
    "version": 2
   },
   "file_extension": ".py",
   "mimetype": "text/x-python",
   "name": "python",
   "nbconvert_exporter": "python",
   "pygments_lexer": "ipython2",
   "version": "2.7.6"
  }
 },
 "nbformat": 4,
 "nbformat_minor": 0
}
