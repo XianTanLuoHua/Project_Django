{
 "cells": [
  {
   "cell_type": "code",
   "execution_count": 31,
   "metadata": {
    "collapsed": false
   },
   "outputs": [
    {
     "name": "stdout",
     "output_type": "stream",
     "text": [
      "<module 'ntpath' from 'C:\\\\python\\\\python36\\\\lib\\\\ntpath.py'>\n"
     ]
    }
   ],
   "source": [
    "文件一旦打开 需要进行关闭参数\n",
    "读写内容:\n",
    "    读取:\n",
    "        read\n",
    "        readline\n",
    "        readlines\n",
    "    写入:\n",
    "        write\n",
    "        writelines\n",
    "查找\n",
    "打开文件时默认的操作目录是当前所在的文件夹\n"
   ]
  },
  {
   "cell_type": "code",
   "execution_count": 32,
   "metadata": {},
   "outputs": [],
   "source": [
    "open函数:\n",
    "    open函数负责打开文件带有很多参数\n",
    "    mode表明文件以什么方式打开:\n",
    "        -r read以只读方式打开 如果文件不存在则报错    并且文件不能做写入操作\n",
    "        -w write 以写方式打开 会覆盖以前的内容 如果文件不存在就创建一个   并且文件不能做写入操作 必须要关闭\n",
    "        -x 创建方式打开如文件已经存在 则报错F\n",
    "        -a append以追加的方式对文件内容进行写入 如果文件不存在就创建一个\n",
    "        -b 以二进制方式写入\n",
    "        -t 以文本方式打开\n",
    "        -+ 可读写\n"
   ]
  },
  {
   "cell_type": "code",
   "execution_count": 35,
   "metadata": {},
   "outputs": [],
   "source": [
    "''\n",
    "'''\n",
    "        f为变量称之为句柄\n",
    "        r表示后面的字符串不需要转义\n",
    "        如果以写r 方式打开 如果没有指定文件 会进行创建\n",
    "'''\n",
    "f = open(r'text1.txt','w') #称之为句柄\n",
    "f.close()\n",
    "\n"
   ]
  },
  {
   "cell_type": "code",
   "execution_count": 32,
   "metadata": {},
   "outputs": [],
   "source": [
    "''\n",
    "'''\n",
    "        with \n",
    "            上下文管理协议:在合适的时候系统自动关闭\n",
    "            自动判断文件的作用域,自动关闭不再使用的文件的句柄\n",
    "            with不需要close关闭\n",
    "'''\n",
    "with open(r'text1.txt','r')as f:  #标准语法\n",
    "    pass\n",
    "    #下面语句块开始对 f 的操作\n"
   ]
  },
  {
   "cell_type": "code",
   "execution_count": 1,
   "metadata": {
    "collapsed": false
   },
   "outputs": [
    {
     "name": "stdout",
     "output_type": "stream",
     "text": [
      "ilovehuahua\n"
     ]
    }
   ],
   "source": [
    "''\n",
    "'''\n",
    "        readline 按行读取\n",
    "'''\n",
    "with open(r'text1.txt','r') as f:\n",
    "    r_f = f.readline()\n",
    "    while r_f:\n",
    "        print(r_f)\n",
    "        r_f = f.readline()"
   ]
  },
  {
   "cell_type": "code",
   "execution_count": 51,
   "metadata": {},
   "outputs": [
    {
     "name": "stdout",
     "output_type": "stream",
     "text": [
      "床前明月光，\n\n疑是地上霜。\n\n举头望明月，\n\n低头思故乡。\n"
     ]
    }
   ],
   "source": [
    "''\n",
    "'''\n",
    "        list能用打开的文件作为参数 把文件的每一行作为元素\n",
    "        以打开的文件作为参数 创建列表\n",
    "'''\n",
    "with open(r'text1.txt','r') as f:\n",
    "    r__f = list(f)\n",
    "    for i in r__f:\n",
    "        print(i)\n"
   ]
  },
  {
   "cell_type": "code",
   "execution_count": 72,
   "metadata": {},
   "outputs": [
    {
     "name": "stdout",
     "output_type": "stream",
     "text": [
      "床前明月光，\n疑是地上霜。\n举头望明月，\n低头思故乡。\n床\n前明\n月光\n，\n\n疑是\n地上\n霜。\n\n举\n头望\n明月\n，\n\n低头\n思故\n乡。\n\n"
     ]
    }
   ],
   "source": [
    "''\n",
    "'''\n",
    "        read() 按字符读取文件内容\n",
    "             允许输入参数决定读取几个  如果没有指定 则一次性读取到末尾\n",
    "             否则从当前位置读取指定个数字符\n",
    "'''\n",
    "\n",
    "'''\n",
    "        不给参数一次读完\n",
    "'''\n",
    "with open(r'text1.txt', 'r')as f: \n",
    "    r_f = f.read()\n",
    "    print(r_f)\n",
    "    \n",
    "with open(r'text1.txt','r')as f:\n",
    "    r_f = f.read(1)  #提供参数  按照指定的参数进行读取\n",
    "    print(r_f)\n",
    "    while r_f:\n",
    "        r_f = f.read(2)\n",
    "        print(r_f)"
   ]
  },
  {
   "cell_type": "code",
   "execution_count": 7,
   "metadata": {},
   "outputs": [
    {
     "name": "stdout",
     "output_type": "stream",
     "text": [
      "前明月光，\n疑是地上霜。\n举头望明月，\n低头思故乡。\n"
     ]
    }
   ],
   "source": [
    "''\n",
    "'''\n",
    "        seek(offset,from):\n",
    "            offset 移动文件的读取位置也叫读取指针\n",
    "                移动单位是字节(byte)\n",
    "                一个汉字由若干个字节组成\n",
    "                UnicodeDecodeErro (unicode解码错误)\n",
    "            from的取值范围:\n",
    "                -0 从文件头开始偏移\n",
    "                -1 从文件当前的位置开始偏移\n",
    "                -3 从文件末尾开始偏移 \n",
    "             \n",
    "        \n",
    "'''\n",
    "\n",
    "'''\n",
    "        打开读写指针在0出即文件的开头\n",
    "'''\n",
    "with open(r'text1.txt','r')as f:\n",
    "    f.seek(2,0)     #在 2byte 处开始读到末尾 \n",
    "    offset_text1= f.read()\n",
    "    print(offset_text1)"
   ]
  },
  {
   "cell_type": "code",
   "execution_count": 9,
   "metadata": {},
   "outputs": [
    {
     "name": "stdout",
     "output_type": "stream",
     "text": [
      "床前明\n6\n月光，\n12\n\n疑是\n18\n地上霜\n24\n。\n举\n30\n头望明\n36\n月，\n\n42\n低头思\n48\n故乡。\n54\n"
     ]
    }
   ],
   "source": [
    "''\n",
    "'''\n",
    "        teel 用来显示文件读写指针的当前位置 返回的单位是byte\n",
    "        read读取的是以字符为单位\n",
    "'''\n",
    "with open(r'text1.txt','r')as f:\n",
    "    str_f = f.read(3)\n",
    "    teel_f = f.tell()\n",
    "    while str_f:\n",
    "        \n",
    "        print(str_f)\n",
    "        print(teel_f)\n",
    "        str_f = f.read(3)   \n",
    "        teel_f = f.tell()"
   ]
  },
  {
   "cell_type": "code",
   "execution_count": 10,
   "metadata": {},
   "outputs": [],
   "source": [
    "''\n",
    "'''\n",
    "        文件的写  write \n",
    "        write(str) 把字符串写入文件\n",
    "        writelines 可以写入很多行 可以是list格式 也可以是字符串序列\n",
    "        区别:\n",
    "            write 只能写入字符串\n",
    "            writelines可以是字符串 也可以是字符串序列list格式\n",
    "'''"
   ]
  },
  {
   "cell_type": "code",
   "execution_count": 14,
   "metadata": {},
   "outputs": [],
   "source": [
    "''\n",
    "'''\n",
    "        write 案例\n",
    "            :向文件末尾追加一行诗\n",
    "'''\n",
    "with open(r'text1.txt','a')as f:\n",
    "    f.write('生活不止有眼前的苟且,\\n还有远方的苟且')\n",
    "    \n"
   ]
  },
  {
   "cell_type": "code",
   "execution_count": 28,
   "metadata": {},
   "outputs": [],
   "source": [
    "''\n",
    "'''\n",
    "        用writelines来操作 \n",
    "'''\n",
    "a = ['i','love','huahua']\n",
    "with open(r'text1.txt','a') as f:\n",
    "    f.writelines(a)\n"
   ]
  },
  {
   "cell_type": "code",
   "execution_count": 10,
   "metadata": {},
   "outputs": [],
   "source": [
    "''\n",
    "'''\n",
    "        pickle:\n",
    "            序列化(持久化,落地):把程序中的信息保存在磁盘上\n",
    "            反序列化:序列化的逆过程\n",
    "            pickle.dump 序列化\n",
    "            pickle.load 反序列化\n",
    "'''\n",
    "\n"
   ]
  },
  {
   "cell_type": "code",
   "execution_count": 25,
   "metadata": {},
   "outputs": [
    {
     "name": "stdout",
     "output_type": "stream",
     "text": [
      "19\n"
     ]
    }
   ],
   "source": [
    "import pickle\n",
    "'''\n",
    "        序列化\n",
    "'''\n",
    "age = 19\n",
    "with open(r'text1.txt','wb')as f: #以二进制的方式写文件\n",
    "    pickle.dump(age,f)\n",
    "    \n",
    "'''\n",
    "        反序列化\n",
    "'''\n",
    "with open(r'text1.txt','rb')as f: #以二进制的方式读文件\n",
    "    age = pickle.load(f)\n",
    "    print(age)"
   ]
  },
  {
   "cell_type": "code",
   "execution_count": 23,
   "metadata": {},
   "outputs": [],
   "source": []
  },
  {
   "cell_type": "code",
   "execution_count": null,
   "metadata": {},
   "outputs": [],
   "source": []
  }
 ],
 "metadata": {
  "kernelspec": {
   "display_name": "Python 2",
   "language": "python",
   "name": "python2"
  },
  "language_info": {
   "codemirror_mode": {
    "name": "ipython",
    "version": 2
   },
   "file_extension": ".py",
   "mimetype": "text/x-python",
   "name": "python",
   "nbconvert_exporter": "python",
   "pygments_lexer": "ipython2",
   "version": "2.7.6"
  }
 },
 "nbformat": 4,
 "nbformat_minor": 0
}
