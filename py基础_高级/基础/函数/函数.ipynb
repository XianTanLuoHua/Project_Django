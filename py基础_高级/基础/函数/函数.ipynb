{
 "cells": [
  {
   "cell_type": "code",
   "execution_count": 1,
   "metadata": {
    "collapsed": false
   },
   "outputs": [
    {
     "ename": "SyntaxError",
     "evalue": "invalid syntax (<ipython-input-1-1c37586c13ea>, line 2)",
     "traceback": [
      "\u001b[0;36m  File \u001b[0;32m\"<ipython-input-1-1c37586c13ea>\"\u001b[0;36m, line \u001b[0;32m2\u001b[0m\n\u001b[0;31m    函数在命名时 符合python标识符的命名方式     用括号来区分函数和普通标识符的区别\u001b[0m\n\u001b[0m                          ^\u001b[0m\n\u001b[0;31mSyntaxError\u001b[0m\u001b[0;31m:\u001b[0m invalid syntax\n"
     ],
     "output_type": "error"
    }
   ],
   "source": [
    "函数就是一块被封装起来的功能代码块,并起一个名字作为该功能代码块作为标记,减少代码冗余让代码可读性更好,可维护性更高\n",
    "函数在命名时 符合python标识符的命名方式     用括号来区分函数和普通标识符的区别"
   ]
  },
  {
   "cell_type": "code",
   "execution_count": 3,
   "metadata": {},
   "outputs": [
    {
     "name": "stdout",
     "output_type": "stream",
     "text": [
      "12\n"
     ]
    }
   ],
   "source": [
    "''\n",
    "'''\n",
    "        位置参数\n",
    "        def func_name(x,y):这里的x y就是位置参数 不能多也不能少\n",
    "            print(x,y)\n",
    "'''\n",
    "def add_sum(x,y):#这里的x y是位置参数\n",
    "    print(x+y)\n",
    "\n",
    "add_sum(10,2)\n",
    "# add_sum(4)#报错提示缺少一个位置参数y\n",
    "# add_sum(10,2,6)#报错提示你多给了一个参数"
   ]
  },
  {
   "cell_type": "code",
   "execution_count": 15,
   "metadata": {},
   "outputs": [
    {
     "name": "stdout",
     "output_type": "stream",
     "text": [
      "hello\nNone\n"
     ]
    }
   ],
   "source": [
    "''\n",
    "'''\n",
    "        函数的返回值:\n",
    "            函数使用return返回一个数据:\n",
    "                函数可以没有返回值 默认返回None\n",
    "                函数体中一旦遇到return函数就结束了.\n",
    "            函数中可以有多个return语句 但是只能执行一个 如果函数中是顺序结构 那么遇到第一个就会return\n",
    "            如果有分支条件,那么执行时根据条件判断\n",
    "            \n",
    "        \n",
    "'''\n",
    "\n",
    "def c_max(a,b):\n",
    "    m = a if a>b else b\n",
    "    return m*10\n",
    "c_max(10,22)\n",
    "\n",
    "def show():  #定义一个没有返回值的函数\n",
    "    print('hello')\n",
    "show_1 = show()\n",
    "print(show_1)   #返回了None"
   ]
  },
  {
   "cell_type": "code",
   "execution_count": 32,
   "metadata": {},
   "outputs": [
    {
     "name": "stdout",
     "output_type": "stream",
     "text": [
      "(1, 2, 3, 4, 5)\n1 2 3 4 5\n2 1\n"
     ]
    }
   ],
   "source": [
    "''\n",
    "'''\n",
    "        拆包和解包\n",
    "            当一个值同时赋值给一个变量时解释器会进行组包操作\n",
    "                a = 1,2,3,4,5\n",
    "            当一个值赋值给多个变量时 解释器会进行拆包操作\n",
    "'''\n",
    "a = 1,2,3,4,5 #解释器会自动进行组包操作\n",
    "print(a)\n",
    "\n",
    "x,y,z,h,r =a #解释器会自动进行拆包的操作\n",
    "print(x,y,z,h,r)\n",
    "\n",
    "\n",
    "a =1  #交换两个数\n",
    "b = 2\n",
    "a,b =b,a\n",
    "print(a,b)"
   ]
  },
  {
   "cell_type": "code",
   "execution_count": 34,
   "metadata": {},
   "outputs": [
    {
     "name": "stdout",
     "output_type": "stream",
     "text": [
      "(5, -1)\n"
     ]
    }
   ],
   "source": [
    "''\n",
    "'''\n",
    "        函数中返回多个值\n",
    "'''\n",
    "\n",
    "def max_min(list):  #同时求最大和最小值 且返回\n",
    "    a, b = max(list), min(list)\n",
    "    return a, b\n",
    "\n",
    "a = max_min([-1, 1, 2, 3, 4, 5])\n",
    "print(a)\n"
   ]
  },
  {
   "cell_type": "code",
   "execution_count": 43,
   "metadata": {},
   "outputs": [
    {
     "name": "stdout",
     "output_type": "stream",
     "text": [
      "开始运行1\n开始运行2\n开始运行3\n结束运行3\n结束运行2\n结束运行1\n"
     ]
    }
   ],
   "source": [
    "''\n",
    "'''\n",
    "        函数嵌套调用\n",
    "'''\n",
    "\n",
    "\n",
    "def start_run1():\n",
    "    print('开始运行1')\n",
    "    start_run2()\n",
    "    print('结束运行1')\n",
    "def start_run2():\n",
    "    print('开始运行2')\n",
    "    start_run3()\n",
    "    print('结束运行2')\n",
    "def start_run3():\n",
    "    print('开始运行3')\n",
    "    # start_run2()\n",
    "    print('结束运行3')\n",
    "       \n",
    "    \n",
    "    \n",
    "    \n",
    "start_run1()"
   ]
  },
  {
   "cell_type": "code",
   "execution_count": 11,
   "metadata": {},
   "outputs": [],
   "source": [
    "''\n",
    "'''\n",
    "        递归最简单的公式\n",
    "'''\n",
    "\n",
    "def fact(n):\n",
    "    if n==1:\n",
    "        return 1\n",
    "    return n * fact(n - 1)\n",
    "===> fact(5)\n",
    "===> 5 * fact(5-1)\n",
    "===> 5 * (4 * fact(4-1))\n",
    "===> 5 * (4 * (3 * fact(3-1)))\n",
    "===> 5 * (4 * (3 * (2 * fact(2-1))))\n",
    "===> 5 * (4 * (3 * (2 * 1)))\n",
    "===> 5 * (4 * (3 * 2))\n",
    "===> 5 * (4 * 6)\n",
    "===> 5 * 24\n",
    "===> 120\n"
   ]
  },
  {
   "cell_type": "code",
   "execution_count": 46,
   "metadata": {},
   "outputs": [
    {
     "name": "stdout",
     "output_type": "stream",
     "text": [
      "2\n1\n"
     ]
    }
   ],
   "source": [
    "''\n",
    "'''\n",
    "        如果函数中存在和全局变量相同的变量名称 谁离得近用谁\n",
    "'''\n",
    "a = 1\n",
    "def test_1():\n",
    "    a = 2\n",
    "    print(a)\n",
    "test_1()\n",
    "print(a)"
   ]
  },
  {
   "cell_type": "code",
   "execution_count": 4,
   "metadata": {},
   "outputs": [
    {
     "name": "stdout",
     "output_type": "stream",
     "text": [
      "True\n"
     ]
    }
   ],
   "source": [
    "''\n",
    "'''\n",
    "        关键字参数\n",
    "            在调用时在传入数据时不考虑参数的传入顺序问题\n",
    "'''\n",
    "def in_list(c_list, c):\n",
    "    return c in c_list\n",
    "print(in_list(c=2, c_list=[1, 2, 3]))\n"
   ]
  },
  {
   "cell_type": "code",
   "execution_count": 6,
   "metadata": {},
   "outputs": [
    {
     "name": "stdout",
     "output_type": "stream",
     "text": [
      "8\n16\n"
     ]
    }
   ],
   "source": [
    "''\n",
    "'''\n",
    "        默认参数\n",
    "            在定义函数时给特定参数设置一个默认值,在调用时如果没有给相应的参数传入值,则使用提前设置的参数\n",
    "            默认值一般设置在最右侧 如果没有args kwargs\n",
    "            默认值的右侧不能出现没有默认值的参数\n",
    "'''\n",
    "def sum_num(x,y = 2):\n",
    "    return x**y\n",
    "print(sum_num(2,3)) #覆盖掉设置的默认值\n",
    "print(sum_num(4))   #传入一个参数后因为提前设置了默认参数所以不会报错"
   ]
  },
  {
   "cell_type": "code",
   "execution_count": 7,
   "metadata": {},
   "outputs": [],
   "source": [
    "''\n",
    "'''\n",
    "        收集参数\n",
    "            在调用函数时如果需要传递多个位置参数并且数量不固定\n",
    "            那么可以在形参位置上定义收集参数\n",
    "            内部结构时args   tuple\n",
    "'''\n"
   ]
  },
  {
   "cell_type": "code",
   "execution_count": 7,
   "metadata": {},
   "outputs": [],
   "source": [
    "''\n",
    "'''\n",
    "        收集关键字参数\n",
    "            在调用函数时如果需要传递多个关键字参数并且参数数量不固定\n",
    "            那么可以在形参位置上定义成收集关键字参数\n",
    "            内部结构时kwargs    dict\n",
    "'''"
   ]
  },
  {
   "cell_type": "code",
   "execution_count": 1,
   "metadata": {},
   "outputs": [
    {
     "name": "stdout",
     "output_type": "stream",
     "text": [
      "Jack 24 Beijing Engineer\n"
     ]
    }
   ],
   "source": [
    "''\n",
    "'''\n",
    "        命名关键词参数:\n",
    "        使用命名关键字参数时，要特别注意，如果没有可变参数，\n",
    "        就必须加一个*作为特殊分隔符。如果缺少*，Python解释器将无法识别位置参数和命名关键字参数：\n",
    "'''\n",
    "def person(name, age, *, city='Beijing', job):\n",
    "    print(name, age, city, job)\n",
    "person('Jack', 24, job='Engineer')"
   ]
  },
  {
   "cell_type": "code",
   "execution_count": 7,
   "metadata": {},
   "outputs": [],
   "source": [
    "''\n",
    "'''\n",
    "        混合参数\n",
    "'''"
   ]
  },
  {
   "cell_type": "code",
   "execution_count": 7,
   "metadata": {},
   "outputs": [],
   "source": []
  },
  {
   "cell_type": "code",
   "execution_count": null,
   "metadata": {},
   "outputs": [],
   "source": []
  }
 ],
 "metadata": {
  "kernelspec": {
   "display_name": "Python 2",
   "language": "python",
   "name": "python2"
  },
  "language_info": {
   "codemirror_mode": {
    "name": "ipython",
    "version": 2
   },
   "file_extension": ".py",
   "mimetype": "text/x-python",
   "name": "python",
   "nbconvert_exporter": "python",
   "pygments_lexer": "ipython2",
   "version": "2.7.6"
  }
 },
 "nbformat": 4,
 "nbformat_minor": 0
}
